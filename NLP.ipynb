{
  "nbformat": 4,
  "nbformat_minor": 0,
  "metadata": {
    "colab": {
      "provenance": []
    },
    "kernelspec": {
      "name": "python3",
      "display_name": "Python 3"
    },
    "language_info": {
      "name": "python"
    }
  },
  "cells": [
    {
      "cell_type": "code",
      "source": [
        "import nltk\n",
        "from nltk.tokenize import word_tokenize, sent_tokenize\n",
        "from nltk.sentiment import SentimentIntensityAnalyzer\n",
        "from nltk.corpus import stopwords"
      ],
      "metadata": {
        "id": "fU-_JpNtZWZY"
      },
      "execution_count": null,
      "outputs": []
    },
    {
      "cell_type": "code",
      "source": [
        "!pip install transformers pyLDAvis"
      ],
      "metadata": {
        "colab": {
          "base_uri": "https://localhost:8080/"
        },
        "id": "rlfO7K12YWjh",
        "outputId": "8b8e2c78-4bd6-4412-e3e7-057123983690"
      },
      "execution_count": null,
      "outputs": [
        {
          "output_type": "stream",
          "name": "stdout",
          "text": [
            "Collecting transformers\n",
            "  Downloading transformers-4.33.2-py3-none-any.whl (7.6 MB)\n",
            "\u001b[2K     \u001b[90m━━━━━━━━━━━━━━━━━━━━━━━━━━━━━━━━━━━━━━━━\u001b[0m \u001b[32m7.6/7.6 MB\u001b[0m \u001b[31m22.8 MB/s\u001b[0m eta \u001b[36m0:00:00\u001b[0m\n",
            "\u001b[?25hCollecting pyLDAvis\n",
            "  Downloading pyLDAvis-3.4.1-py3-none-any.whl (2.6 MB)\n",
            "\u001b[2K     \u001b[90m━━━━━━━━━━━━━━━━━━━━━━━━━━━━━━━━━━━━━━━━\u001b[0m \u001b[32m2.6/2.6 MB\u001b[0m \u001b[31m48.8 MB/s\u001b[0m eta \u001b[36m0:00:00\u001b[0m\n",
            "\u001b[?25hRequirement already satisfied: filelock in /usr/local/lib/python3.10/dist-packages (from transformers) (3.12.2)\n",
            "Collecting huggingface-hub<1.0,>=0.15.1 (from transformers)\n",
            "  Downloading huggingface_hub-0.17.3-py3-none-any.whl (295 kB)\n",
            "\u001b[2K     \u001b[90m━━━━━━━━━━━━━━━━━━━━━━━━━━━━━━━━━━━━━━\u001b[0m \u001b[32m295.0/295.0 kB\u001b[0m \u001b[31m31.9 MB/s\u001b[0m eta \u001b[36m0:00:00\u001b[0m\n",
            "\u001b[?25hRequirement already satisfied: numpy>=1.17 in /usr/local/lib/python3.10/dist-packages (from transformers) (1.23.5)\n",
            "Requirement already satisfied: packaging>=20.0 in /usr/local/lib/python3.10/dist-packages (from transformers) (23.1)\n",
            "Requirement already satisfied: pyyaml>=5.1 in /usr/local/lib/python3.10/dist-packages (from transformers) (6.0.1)\n",
            "Requirement already satisfied: regex!=2019.12.17 in /usr/local/lib/python3.10/dist-packages (from transformers) (2023.6.3)\n",
            "Requirement already satisfied: requests in /usr/local/lib/python3.10/dist-packages (from transformers) (2.31.0)\n",
            "Collecting tokenizers!=0.11.3,<0.14,>=0.11.1 (from transformers)\n",
            "  Downloading tokenizers-0.13.3-cp310-cp310-manylinux_2_17_x86_64.manylinux2014_x86_64.whl (7.8 MB)\n",
            "\u001b[2K     \u001b[90m━━━━━━━━━━━━━━━━━━━━━━━━━━━━━━━━━━━━━━━━\u001b[0m \u001b[32m7.8/7.8 MB\u001b[0m \u001b[31m74.8 MB/s\u001b[0m eta \u001b[36m0:00:00\u001b[0m\n",
            "\u001b[?25hCollecting safetensors>=0.3.1 (from transformers)\n",
            "  Downloading safetensors-0.3.3-cp310-cp310-manylinux_2_17_x86_64.manylinux2014_x86_64.whl (1.3 MB)\n",
            "\u001b[2K     \u001b[90m━━━━━━━━━━━━━━━━━━━━━━━━━━━━━━━━━━━━━━━━\u001b[0m \u001b[32m1.3/1.3 MB\u001b[0m \u001b[31m65.0 MB/s\u001b[0m eta \u001b[36m0:00:00\u001b[0m\n",
            "\u001b[?25hRequirement already satisfied: tqdm>=4.27 in /usr/local/lib/python3.10/dist-packages (from transformers) (4.66.1)\n",
            "Collecting numpy>=1.17 (from transformers)\n",
            "  Downloading numpy-1.26.0-cp310-cp310-manylinux_2_17_x86_64.manylinux2014_x86_64.whl (18.2 MB)\n",
            "\u001b[2K     \u001b[90m━━━━━━━━━━━━━━━━━━━━━━━━━━━━━━━━━━━━━━━\u001b[0m \u001b[32m18.2/18.2 MB\u001b[0m \u001b[31m110.4 MB/s\u001b[0m eta \u001b[36m0:00:00\u001b[0m\n",
            "\u001b[?25hRequirement already satisfied: scipy in /usr/local/lib/python3.10/dist-packages (from pyLDAvis) (1.11.2)\n",
            "Collecting pandas>=2.0.0 (from pyLDAvis)\n",
            "  Downloading pandas-2.1.1-cp310-cp310-manylinux_2_17_x86_64.manylinux2014_x86_64.whl (12.3 MB)\n",
            "\u001b[2K     \u001b[90m━━━━━━━━━━━━━━━━━━━━━━━━━━━━━━━━━━━━━━━\u001b[0m \u001b[32m12.3/12.3 MB\u001b[0m \u001b[31m130.2 MB/s\u001b[0m eta \u001b[36m0:00:00\u001b[0m\n",
            "\u001b[?25hRequirement already satisfied: joblib>=1.2.0 in /usr/local/lib/python3.10/dist-packages (from pyLDAvis) (1.3.2)\n",
            "Requirement already satisfied: jinja2 in /usr/local/lib/python3.10/dist-packages (from pyLDAvis) (3.1.2)\n",
            "Requirement already satisfied: numexpr in /usr/local/lib/python3.10/dist-packages (from pyLDAvis) (2.8.5)\n",
            "Collecting funcy (from pyLDAvis)\n",
            "  Downloading funcy-2.0-py2.py3-none-any.whl (30 kB)\n",
            "Requirement already satisfied: scikit-learn>=1.0.0 in /usr/local/lib/python3.10/dist-packages (from pyLDAvis) (1.2.2)\n",
            "Requirement already satisfied: gensim in /usr/local/lib/python3.10/dist-packages (from pyLDAvis) (4.3.2)\n",
            "Requirement already satisfied: setuptools in /usr/local/lib/python3.10/dist-packages (from pyLDAvis) (67.7.2)\n",
            "Requirement already satisfied: fsspec in /usr/local/lib/python3.10/dist-packages (from huggingface-hub<1.0,>=0.15.1->transformers) (2023.6.0)\n",
            "Requirement already satisfied: typing-extensions>=3.7.4.3 in /usr/local/lib/python3.10/dist-packages (from huggingface-hub<1.0,>=0.15.1->transformers) (4.5.0)\n",
            "Requirement already satisfied: python-dateutil>=2.8.2 in /usr/local/lib/python3.10/dist-packages (from pandas>=2.0.0->pyLDAvis) (2.8.2)\n",
            "Requirement already satisfied: pytz>=2020.1 in /usr/local/lib/python3.10/dist-packages (from pandas>=2.0.0->pyLDAvis) (2023.3.post1)\n",
            "Collecting tzdata>=2022.1 (from pandas>=2.0.0->pyLDAvis)\n",
            "  Downloading tzdata-2023.3-py2.py3-none-any.whl (341 kB)\n",
            "\u001b[2K     \u001b[90m━━━━━━━━━━━━━━━━━━━━━━━━━━━━━━━━━━━━━━\u001b[0m \u001b[32m341.8/341.8 kB\u001b[0m \u001b[31m40.7 MB/s\u001b[0m eta \u001b[36m0:00:00\u001b[0m\n",
            "\u001b[?25hRequirement already satisfied: threadpoolctl>=2.0.0 in /usr/local/lib/python3.10/dist-packages (from scikit-learn>=1.0.0->pyLDAvis) (3.2.0)\n",
            "Requirement already satisfied: smart-open>=1.8.1 in /usr/local/lib/python3.10/dist-packages (from gensim->pyLDAvis) (6.4.0)\n",
            "Requirement already satisfied: MarkupSafe>=2.0 in /usr/local/lib/python3.10/dist-packages (from jinja2->pyLDAvis) (2.1.3)\n",
            "Requirement already satisfied: charset-normalizer<4,>=2 in /usr/local/lib/python3.10/dist-packages (from requests->transformers) (3.2.0)\n",
            "Requirement already satisfied: idna<4,>=2.5 in /usr/local/lib/python3.10/dist-packages (from requests->transformers) (3.4)\n",
            "Requirement already satisfied: urllib3<3,>=1.21.1 in /usr/local/lib/python3.10/dist-packages (from requests->transformers) (2.0.4)\n",
            "Requirement already satisfied: certifi>=2017.4.17 in /usr/local/lib/python3.10/dist-packages (from requests->transformers) (2023.7.22)\n",
            "Requirement already satisfied: six>=1.5 in /usr/local/lib/python3.10/dist-packages (from python-dateutil>=2.8.2->pandas>=2.0.0->pyLDAvis) (1.16.0)\n",
            "Installing collected packages: tokenizers, safetensors, funcy, tzdata, numpy, pandas, huggingface-hub, transformers, pyLDAvis\n",
            "  Attempting uninstall: numpy\n",
            "    Found existing installation: numpy 1.23.5\n",
            "    Uninstalling numpy-1.23.5:\n",
            "      Successfully uninstalled numpy-1.23.5\n",
            "  Attempting uninstall: pandas\n",
            "    Found existing installation: pandas 1.5.3\n",
            "    Uninstalling pandas-1.5.3:\n",
            "      Successfully uninstalled pandas-1.5.3\n",
            "\u001b[31mERROR: pip's dependency resolver does not currently take into account all the packages that are installed. This behaviour is the source of the following dependency conflicts.\n",
            "google-colab 1.0.0 requires pandas==1.5.3, but you have pandas 2.1.1 which is incompatible.\n",
            "numba 0.56.4 requires numpy<1.24,>=1.18, but you have numpy 1.26.0 which is incompatible.\n",
            "tensorflow 2.13.0 requires numpy<=1.24.3,>=1.22, but you have numpy 1.26.0 which is incompatible.\u001b[0m\u001b[31m\n",
            "\u001b[0mSuccessfully installed funcy-2.0 huggingface-hub-0.17.3 numpy-1.26.0 pandas-2.1.1 pyLDAvis-3.4.1 safetensors-0.3.3 tokenizers-0.13.3 transformers-4.33.2 tzdata-2023.3\n"
          ]
        }
      ]
    },
    {
      "cell_type": "code",
      "source": [
        "import spacy\n",
        "import requests\n",
        "import string\n",
        "from gensim.models import TfidfModel\n",
        "from gensim import corpora\n",
        "from gensim.models import LdaModel\n",
        "import pyLDAvis.gensim_models\n",
        "import matplotlib.pyplot as plt"
      ],
      "metadata": {
        "id": "k6gK5NfOMhne"
      },
      "execution_count": null,
      "outputs": []
    },
    {
      "cell_type": "code",
      "source": [
        "def get_wikipedia_content(title, lang=\"en\"):\n",
        "    # Base URL per l'API di Wikipedia\n",
        "    base_url = f\"https://{lang}.wikipedia.org/w/api.php\"\n",
        "\n",
        "    # Parametri per la richiesta API\n",
        "    params = {\n",
        "        \"action\": \"query\",\n",
        "        \"format\": \"json\",\n",
        "        \"titles\": title,\n",
        "        \"prop\": \"extracts\",\n",
        "        \"explaintext\": True,  # Ottieni il testo senza marcature HTML\n",
        "    }\n",
        "\n",
        "    response = requests.get(base_url, params=params)\n",
        "    data = response.json()\n",
        "\n",
        "    # Estrai il contenuto dalla risposta\n",
        "    pages = data[\"query\"][\"pages\"]\n",
        "    for page_id, page_data in pages.items():\n",
        "        return page_data['extract']\n",
        "\n",
        "    return None\n",
        "\n",
        "title = \"Italy\"\n",
        "content = get_wikipedia_content(title)\n",
        "print(content)"
      ],
      "metadata": {
        "colab": {
          "base_uri": "https://localhost:8080/"
        },
        "id": "MjOHtGqyNF5G",
        "outputId": "f72ce991-117b-4ded-a561-86679efbeab1"
      },
      "execution_count": null,
      "outputs": [
        {
          "output_type": "stream",
          "name": "stderr",
          "text": [
            "/usr/local/lib/python3.10/dist-packages/ipykernel/ipkernel.py:283: DeprecationWarning: `should_run_async` will not call `transform_cell` automatically in the future. Please pass the result to `transformed_cell` argument and any exception that happen during thetransform in `preprocessing_exc_tuple` in IPython 7.17 and above.\n",
            "  and should_run_async(code)\n"
          ]
        },
        {
          "output_type": "stream",
          "name": "stdout",
          "text": [
            "Italy (Italian: Italia [iˈtaːlja] ), officially the Italian Republic or the Republic of Italy, is a country in Southern and Western Europe. Located in the middle of the Mediterranean Sea, it consists of a peninsula delimited by the Alps and surrounded by several islands.\n",
            "Italy shares land borders with France, Switzerland, Austria, Slovenia and the enclaved microstates of Vatican City and San Marino. It has a territorial exclave in Switzerland (Campione) and an archipelago in the African Plate (Pelagie Islands). Italy covers an area of 301,340 km2 (116,350 sq mi), with a population of about 60 million; it is the tenth-largest country by land area in the European continent and the third-most populous member state of the European Union. Its capital and largest city is Rome.\n",
            "The Italian peninsula was historically the native place of numerous ancient peoples and destination of a myriad of different peoples and cultures who immigrated throughout history. The ancient Roman state arose in Latium, and expanded throughout the peninsula and the territories around the Mediterranean basin through a process of Romanization. By the first century BC, the Roman Empire expanded its territory across Europe, North Africa and the Near East, establishing the Pax Romana. During the Early Middle Ages, the Western Roman Empire fell, Christian Church arose and Italy experienced inward migration from surrounding tribes. By the 11th century, Italian city-states and maritime republics expanded, bringing renewed prosperity through commerce and laying the groundwork for modern capitalism. The Italian Renaissance flourished in Florence during the 15th and 16th centuries and spread to the rest of Europe. Italian explorers also discovered new routes to the Far East and the New World, helping to usher in the European Age of Discovery. However, centuries of rivalry and infighting between the Italian city-states among other factors left the peninsula divided into numerous states until the late modern period. Italy's commercial and political power significantly waned during the 17th and 18th centuries with the decline of the Catholic Church and the increasing importance of trade routes that bypassed the Mediterranean.After centuries of political and territorial divisions, Italy was almost entirely unified in 1861 following Wars of independence and the Expedition of the Thousand, establishing the Kingdom of Italy. From the late 19th century to the early 20th century, Italy rapidly industrialised, mainly in the north, and acquired a colonial empire, while the south remained largely impoverished and excluded from industrialisation, fuelling a large immigrant diaspora. Despite being one of the victorious allied powers in World War I, Italy entered a period of economic crisis and social turmoil, leading to the rise of the Italian fascist dictatorship in 1922. During World War II, Italy was first part of the Axis until it surrendered to the Allied powers and was occupied by Nazi Germany with fascist collaboration (1940-1943) and then a co-belligerent of the Allies during the Italian resistance and the liberation of Italy (1943-1945). Following the end of the war, the country replaced the monarchy with a republic via referendum and enjoyed a prolonged economic boom, becoming a major advanced economy.Italy has the eighth-largest nominal GDP in the world, the ninth-largest national wealth and the third-largest central bank gold reserve. The country has been described as the \"least of the great powers\", and it has a significant role in regional and global economic, military, cultural, and diplomatic affairs. Italy is a founding and leading member of the European Union, and it is in numerous international institutions including the NATO, the G7, the Uniting for Consensus and many more. The source of many inventions and discoveries, the country is considered a cultural superpower and has long been a global centre of art, music, literature, science and technology and fashion. It has the world's largest number of World Heritage Sites (58), and is the world's fifth-most visited country.\n",
            "\n",
            "\n",
            "== Name ==\n",
            "\n",
            "Hypotheses for the etymology of the name \"Italia\" are numerous. One is that it was borrowed via Ancient Greek from the Oscan Víteliú 'land of calves' (cf. Lat vitulus \"calf\", Umb vitlo \"calf\"). Ancient Greek historian Dionysius of Halicarnassus states this account together with the legend that Italy was named after Italus, mentioned also by Aristotle and Thucydides.According to Antiochus of Syracuse, the term Italy was used by the ancient Greeks to initially refer only to the southern portion of the Bruttium peninsula corresponding to the modern province of Reggio and part of the provinces of Catanzaro and Vibo Valentia in southern Italy. Nevertheless, by his time the larger concept of Oenotria and \"Italy\" had become synonymous, and the name also applied to most of Lucania as well. According to Strabo's Geographica, before the expansion of the Roman Republic, the name was used by ancient Greeks to indicate the land between the strait of Messina and the line connecting the gulf of Salerno and gulf of Taranto, corresponding roughly to the current region of Calabria. The ancient Greeks gradually came to apply the name \"Italia\" to a larger region In addition to the \"Greek Italy\" in the south, historians have suggested the existence of an \"Etruscan Italy\" covering variable areas of central Italy.The borders of Roman Italy, Italia, are better established. Cato's Origines, the first work of history composed in Latin, described Italy as the entire peninsula south of the Alps. According to Cato and several Roman authors, the Alps formed the \"walls of Italy\". In 264 BC, Roman Italy extended from the Arno and Rubicon rivers of the centre-north to the entire south. The northern area of Cisalpine Gaul was occupied by Rome in the 220s BC and became considered geographically and de facto part of Italy, but remained politically and de jure separated. It was legally merged into the administrative unit of Italy in 42 BC by the triumvir Octavian as a ratification of Caesar's unpublished acts (Acta Caesaris). The islands of Sardinia, Corsica, Sicily and Malta were added to Italy by Diocletian in 292 AD, coinciding with the whole Italian geographical region. All its inhabitants were considered Italic and Roman.The Latin term Italicus was used to describe \"a man of Italy\" as opposed to a provincial. For example, Pliny the Elder notably wrote in a letter Italicus es an provincialis? meaning \"are you an Italian or a provincial?\".\n",
            "The adjective italianus, from which are derived the Italian (and also French and English) name of the Italians, is medieval and was used alternatively with Italicus during the early modern period.After the fall of the Western Roman Empire, which was caused by the invasion of the Ostrogoths, the Kingdom of Italy was created. After the Lombard invasions, \"Italia\" was retained as the name for their kingdom, and for its successor kingdom within the Holy Roman Empire, which nominally lasted until 1806, although it had de facto disintegrated due to factional politics pitting the empire against the ascendant city republics in the 13th century.\n",
            "\n",
            "\n",
            "== History ==\n",
            "\n",
            "\n",
            "=== Prehistory and antiquity ===\n",
            "\n",
            "Thousands of Lower Paleolithic artefacts have been recovered from Monte Poggiolo, dating as far back as 850,000 years.\n",
            "Excavations throughout Italy revealed a Neanderthal presence dating back to the Middle Palaeolithic period some 200,000 years ago, while modern humans appeared about 40,000 years ago at Riparo Mochi. Archaeological sites from this period include Addaura cave, Altamura, Ceprano, and Gravina in Puglia.The Ancient peoples of pre-Roman Italy – such as the Umbrians, the Latins (from which the Romans emerged), Volsci, Oscans, Samnites, Sabines, the Celts, the Ligures, the Veneti, the Iapygians, and many others – were Indo-European peoples, most of them specifically of the Italic group. The main historic peoples of possible non-Indo-European or pre-Indo-European heritage include the Etruscans of central and northern Italy, the Elymians and the Sicani in Sicily, and the prehistoric Sardinians, who gave birth to the Nuragic civilisation. Other ancient populations being of undetermined language families and of possible non-Indo-European origin include the Rhaetian people and Cammuni, known for their rock carvings in Valcamonica, the largest collections of prehistoric petroglyphs in the world. A well-preserved natural mummy known as Ötzi the Iceman, determined to be 5,000 years old (between 3400 and 3100 BCE, Copper Age), was discovered in the Similaun glacier of South Tyrol in 1991.The first foreign colonisers were the Phoenicians, who initially established colonies and founded various emporiums on the coasts of Sicily and Sardinia. Some of these soon became small urban centres and were developed parallel to the ancient Greek colonies; among the main centres there were the cities of Motya, Zyz (modern Palermo), Soluntum in Sicily, and Nora, Sulci, and Tharros in Sardinia.Between the 17th and the 11th centuries BC Mycenaean Greeks established contacts with Italy and in the 8th and 7th centuries BC a number of Greek colonies were established all along the coast of Sicily and the southern part of the Italian Peninsula, that became known as Magna Graecia.Ionian settlers founded Elaia, Kyme, Rhegion, Naxos, Zankles, Hymera, and Katane. Doric colonists founded Taras, Syrakousai, Megara Hyblaia, Leontinoi, Akragas, Ghelas; the Syracusans founded Ankón and Adria; the megarese founded Selinunte. The Achaeans founded Sybaris, Poseidonia, Kroton, Lokroi Epizephyrioi, and Metapontum; tarantini and thuriots found Herakleia. The Greek colonization placed the Italic peoples in contact with democratic forms of government and with high artistic and cultural expressions.\n",
            "\n",
            "\n",
            "=== Ancient Rome ===\n",
            "\n",
            "Rome, a settlement around a ford on the river Tiber in central Italy conventionally founded in 753 BC, was ruled for a period of 244 years by a monarchical system, initially with sovereigns of Latin and Sabine origin, later by Etruscan kings. The tradition handed down seven kings: Romulus, Numa Pompilius, Tullus Hostilius, Ancus Marcius, Tarquinius Priscus, Servius Tullius and Tarquinius Superbus. In 509 BC, the Romans expelled the last king from their city, favouring a government of the Senate and the People (SPQR) and establishing an oligarchic republic.\n",
            "The Italian Peninsula, named Italia, was consolidated into a single entity during the Roman expansion and conquest of new lands at the expense of the other Italic tribes, Etruscans, Celts, and Greeks. A permanent association with most of the local tribes and cities was formed, and Rome began the conquest of Western Europe, Northern Africa and the Middle East. In the wake of Julius Caesar's rise and death in the first century BC, Rome grew over the course of centuries into a massive empire stretching from Britain to the borders of Persia, and engulfing the whole Mediterranean basin, in which Greek and Roman and many other cultures merged into a unique civilisation. The long and triumphant reign of the first emperor, Augustus, began a golden age of peace and prosperity. Roman Italy remained the metropole of the empire, and as the homeland of the Romans and the territory of the capital, maintained a special status which made it Domina Provinciarum (\"ruler of the provinces\", the latter being all the remaining territories outside Italy). More than two centuries of stability followed, during which Italy was referred to as the Rectrix Mundi (\"governor of the world\") and Omnium Terrarum Parens (\"parent of all lands\").The Roman Empire was among the most powerful economic, cultural, political and military forces in the world of its time, and it was one of the largest empires in world history. At its height under Trajan, it covered 5 million square kilometres. The Roman legacy has deeply influenced Western civilisation, shaping most of the modern world; among the many legacies of Roman dominance are the widespread use of the Romance languages derived from Latin, the numerical system, the modern Western alphabet and calendar, and the emergence of Christianity as a major world religion.\n",
            "\n",
            "\n",
            "=== Middle Ages ===\n",
            "\n",
            "After the fall of the Western Roman Empire, Italy fell under the power of Odoacer's kingdom, and, later, was seized by the Ostrogoths, followed in the 6th century by a brief reconquest under Byzantine Emperor Justinian. The invasion of another Germanic tribe, the Lombards, late in the same century, reduced the Byzantine presence to the rump realm of the Exarchate of Ravenna and started the end of political unity of the peninsula for the next 1,300 years. The peninsula was therefore divided as follows: northern Italy and Tuscany formed the Lombard kingdom, with its capital in Pavia, while in central-southern Italy the Lombards controlled the duchies of Spoleto and Benevento. The remaining part of the peninsula remained under the Byzantines and was divided between the exarchate of Italy, based in Ravenna, the Duchy of Rome, the Duchy of Naples, the Duchy of Calabria and Sicily, the latter directly dependent on the Emperor of Constantinople. Invasions of the peninsula caused a chaotic succession of barbarian kingdoms and the so-called \"dark ages\". The Lombard kingdom was subsequently absorbed into the Frankish Empire by Charlemagne in the late 8th century and became the Kingdom of Italy. The Franks also helped the formation of the Papal States in central Italy. Until the 13th century, Italian politics was dominated by the relations between the Holy Roman Emperors and the Papacy, with most of the Italian city-states siding with the former (Ghibellines) or with the latter (Guelphs) for momentary convenience.\n",
            "The Germanic Emperor and the Roman Pontiff became the universal powers of medieval Europe. However, the conflict over the investiture controversy and the clash between Guelphs and Ghibellines led to the end of the Imperial-feudal system in the north of Italy where city-states gained independence. The investiture controversy was finally resolved by the Concordat of Worms. In 1176 a league of city-states, the Lombard League, defeated the German emperor Frederick Barbarossa at the Battle of Legnano, thus ensuring effective independence for most of northern and central Italian cities.\n",
            "Italian city-states such as Milan, Florence and Venice played a crucial innovative role in financial development, devising the main instruments and practices of banking and the emergence of new forms of social and economic organization. In coastal and southern areas, the maritime republics grew to eventually dominate the Mediterranean and monopolise trade routes to the Orient. They were independent thalassocratic city-states, though most of them originated from territories once belonging to the Byzantine Empire. All these cities during the time of their independence had similar systems of government in which the merchant class had considerable power. Although in practice these were oligarchical, and bore little resemblance to a modern democracy, the relative political freedom they afforded was conducive to academic and artistic advancement. The four best known maritime republics were Venice, Genoa, Pisa and Amalfi; the others were Ancona, Gaeta, Noli, and Ragusa. Each of the maritime republics had dominion over different overseas lands, including many Mediterranean islands (especially Sardinia and Corsica), lands on the Adriatic, Aegean, and Black Sea (Crimea), and commercial colonies in the Near East and in North Africa. Venice maintained enormous tracts of land in Greece, Cyprus, Istria, and Dalmatia until as late as the mid-17th century.\n",
            "\n",
            "Venice and Genoa were Europe's main gateways to trade with the East, and producers of fine glass, while Florence was a capital of silk, wool, banking, and jewellery. The wealth such business brought to Italy meant that large public and private artistic projects could be commissioned. The republics were heavily involved in the Crusades, providing support and transport, but most especially taking advantage of the political and trading opportunities resulting from these wars. Italy first felt the huge economic changes in Europe which led to the commercial revolution: the Republic of Venice was able to defeat the Byzantine Empire and finance the voyages of Marco Polo to Asia; the first universities were formed in Italian cities, and scholars such as Thomas Aquinas obtained international fame; Frederick I of Sicily made Italy the political-cultural centre of a reign that temporarily included the Holy Roman Empire and the Kingdom of Jerusalem; capitalism and banking families emerged in Florence, where Dante and Giotto were active around 1300.In the south, Sicily had become an Arab Islamic emirate in the 9th century, thriving until the Italo-Normans conquered it in the late 11th century together with most of the Lombard and Byzantine principalities of southern Italy. Through a complex series of events, southern Italy developed as a unified kingdom, first under the House of Hohenstaufen, then under the Capetian House of Anjou and, from the 15th century, the House of Aragon. In Sardinia, the former Byzantine provinces became independent states known in Italian as Judicates, although some parts of the island fell under Genoese or Pisan rule until eventual Aragonese annexation in the 15th century. The Black Death pandemic of 1348 left its mark on Italy by killing perhaps one third of the population.\n",
            "\n",
            "\n",
            "=== Early Modern ===\n",
            "\n",
            "Italy was the birthplace and heart of the Renaissance during the 1400s and 1500s. The Italian Renaissance marked the transition from the medieval period to the modern age as Europe recovered, economically and culturally, from the crises of the Late Middle Ages and entered the Early Modern Period. The Italian polities were now regional states effectively ruled by Princes, de facto monarchs in control of trade and administration, and their courts became major centres of the arts and sciences. The Italian princedoms represented a first form of modern states as opposed to feudal monarchies and multinational empires. The princedoms were led by political dynasties and merchant families such as the Medici in Florence, the Visconti and Sforza in the Duchy of Milan, the Doria in the Republic of Genoa, the Loredan, Mocenigo and Barbarigo in the Republic of Venice, the Este in Ferrara, and the Gonzaga in Mantua. The Renaissance was therefore a result of the wealth accumulated by Italian merchant cities combined with the patronage of its dominant families. Italian Renaissance exercised a dominant influence on subsequent European painting and sculpture for centuries afterwards, with artists such as Leonardo da Vinci, Brunelleschi, Botticelli, Michelangelo, Raphael, Giotto, Donatello, and Titian, and architects such as Filippo Brunelleschi, Leon Battista Alberti, Andrea Palladio, and Donato Bramante.\n",
            "\n",
            "Following the conclusion of the western schism in favour of Rome at the Council of Constance (1415–1417), the new Pope Martin V returned to the Papal States after a three years-long journey that touched many Italian cities and restored Italy as the sole centre of Western Christianity. During the course of this voyage, the Medici Bank was made the official credit institution of the Papacy, and several significant ties were established between the Church and the new political dynasties of the peninsula. The Popes' status as elective monarchs turned the conclaves and consistories of the Renaissance into political battles between the courts of Italy for primacy in the peninsula and access to the immense resources of the Catholic Church. In 1439, Pope Eugenius IV and the Byzantine Emperor John VIII Palaiologos signed a reconciliation agreement between the Catholic Church and the Orthodox Church at the Council of Florence hosted by Cosimo the old de Medici. In 1453, Italian forces under Giovanni Giustiniani were sent by Pope Nicholas V to defend the Walls of Constantinople but the decisive battle was lost to the more advanced Turkish army equipped with cannons, and Byzantium fell to Sultan Mehmed II.\n",
            "The fall of Constantinople led to the migration of Greek scholars and texts to Italy, fueling the rediscovery of Greco-Roman Humanism. Humanist rulers such as Federico da Montefeltro and Pope Pius II worked to establish ideal cities where man is the measure of all things, and therefore founded Urbino and Pienza respectively. Pico della Mirandola wrote the Oration on the Dignity of Man, considered the manifesto of Renaissance Humanism, in which he stressed the importance of free will in human beings. The humanist historian Leonardo Bruni was the first to divide human history in three periods: Antiquity, Middle Ages and Modernity. The second consequence of the Fall of Constantinople was the beginning of the Age of Discovery.\n",
            "\n",
            "Italian explorers and navigators from the dominant maritime republics, eager to find an alternative route to the Indies in order to bypass the Ottoman Empire, offered their services to monarchs of Atlantic countries and played a key role in ushering the Age of Discovery and the European colonization of the Americas. The most notable among them were: Christopher Columbus (Italian: Cristoforo Colombo), colonizer in the name of Spain, who is credited with discovering the New World and the opening of the Americas for conquest and settlement by Europeans; John Cabot (Italian: Giovanni Caboto), sailing for England, who was the first European to set foot in \"New Found Land\" and explore parts of the North American continent in 1497; Amerigo Vespucci, sailing for Portugal, who first demonstrated in about 1501 that the New World (in particular Brazil) was not Asia as initially conjectured, but a fourth continent previously unknown to people of the Old World (America is named after him); and Giovanni da Verrazzano, at the service of France, renowned as the first European to explore the Atlantic coast of North America between Florida and New Brunswick in 1524.Following the fall of Constantinople, the wars in Lombardy came to an end and a defensive alliance known as Italic League was formed between Venice, Naples, Florence, Milan, and the Papacy. Lorenzo the Magnificent de Medici was the greatest Florentine patron of the Renaissance and supporter of the Italic League. He notably avoided the collapse of the League in the aftermath of the Pazzi Conspiracy and during the aborted invasion of Italy by the Turks. However, the military campaign of Charles VIII of France in Italy caused the end of the Italic League and initiated the Italian Wars between the Valois and the Habsburgs. During the High Renaissance of the 1500s, Italy was therefore both the main European battleground and the cultural-economic centre of the continent. Popes such as Julius II (1503–1513) fought for the control of Italy against foreign monarchs, others such as Paul III (1534–1549) preferred to mediate between the European powers in order to secure peace in Italy. In the middle of this conflict, the Medici popes Leo X (1513–1521) and Clement VII (1523–1534) opposed the Protestant reformation and advanced the interests of their family. In 1559, at the end of the French invasions of Italy and of the Italian wars, the many states of northern Italy remained part of the Holy Roman Empire, indirectly subject to the Austrian Habsburgs, while all of Southern Italy (Naples, Sicily, Sardinia) and Milan were under Spanish Habsburg rule.\n",
            "\n",
            "The Papacy remained a powerful force and launched the Counter-reformation. Key events of the period include: the Council of Trent (1545–1563); the excommunication of Elizabeth I (1570) and the Battle of Lepanto (1571), both occurring during the pontificate of Pius V; the construction of the Gregorian observatory, the adoption of the Gregorian calendar, and the Jesuit China mission of Matteo Ricci under Pope Gregory XIII; the French Wars of Religion; the Long Turkish War and the execution of Giordano Bruno in 1600, under Pope Clement VIII; the birth of the Lyncean Academy of the Papal States, of which the main figure was Galileo Galilei (later put on trial); the final phases of the Thirty Years' War (1618–1648) during the pontificates of Urban VIII and Innocent X; and the formation of the last Holy League by Innocent XI during the Great Turkish War.\n",
            "The Italian economy declined during the 1600s and 1700s, as the peninsula was excluded from the rising Atlantic slave trade. Following the European wars of succession of the 18th century, the south passed to a cadet branch of the Spanish Bourbons and the North fell under the influence of the Habsburg-Lorraine of Austria. During the Coalition Wars, northern-central Italy was reorganised by Napoleon in a number of Sister Republics of France and later as a Kingdom of Italy in personal union with the French Empire. The southern half of the peninsula was administered by Joachim Murat, Napoleon's brother-in-law, who was crowned as King of Naples. The 1814 Congress of Vienna restored the situation of the late 18th century, but the ideals of the French Revolution could not be eradicated, and soon re-surfaced during the political upheavals that characterised the first part of the 19th century.\n",
            "During the Napoleonic era, in 1797, the first official adoption of the Italian tricolour as a national flag by a sovereign Italian state, the Cispadane Republic, a Napoleonic sister republic of Revolutionary France, took place, on the basis of the events following the French Revolution (1789–1799) which, among its ideals, advocated the national self-determination. This event is celebrated by the Tricolour Day. The Italian national colours appeared for the first time on a tricolour cockade in 1789, anticipating by seven years the first green, white and red Italian military war flag, which was adopted by the Lombard Legion in 1796.\n",
            "\n",
            "\n",
            "=== Unification ===\n",
            "\n",
            "The birth of the Kingdom of Italy was the result of efforts by Italian nationalists and monarchists loyal to the House of Savoy to establish a united kingdom encompassing the entire Italian Peninsula. By the mid-19th century, rising Italian nationalism, along with other social, economic, and military events, led to a period of revolutionary political upheaval. Following the Congress of Vienna in 1815, the political and social Italian unification movement, or Risorgimento, emerged to unite Italy consolidating the different states of the peninsula and liberate it from foreign control. A prominent radical figure was the patriotic journalist Giuseppe Mazzini, member of the secret revolutionary society Carbonari and founder of the influential political movement Young Italy in the early 1830s, who favoured a unitary republic and advocated a broad nationalist movement. His prolific output of propaganda helped the unification movement stay active.\n",
            "In this context, in 1847, the first public performance of the song \"Il Canto degli Italiani\", the Italian national anthem since 1946, took place. Il Canto degli Italiani, written by Goffredo Mameli set to music by Michele Novaro, is also known as the Inno di Mameli, after the author of the lyrics, or Fratelli d'Italia, from its opening line.\n",
            "\n",
            "The most famous member of Young Italy was the revolutionary and general Giuseppe Garibaldi, renowned for his extremely loyal followers, who led the Italian republican drive for unification in Southern Italy. However, the Northern Italy monarchy of the House of Savoy in the Kingdom of Sardinia, whose government was led by Camillo Benso, Count of Cavour, also had ambitions of establishing a united Italian state. In the context of the 1848 liberal revolutions that swept through Europe, an unsuccessful first war of independence was declared on Austria. In 1855, the Kingdom of Sardinia became an ally of Britain and France in the Crimean War, giving Cavour's diplomacy legitimacy in the eyes of the great powers. The Kingdom of Sardinia again attacked the Austrian Empire in the Second Italian War of Independence of 1859, with the aid of France, resulting in liberating Lombardy. On the basis of the Plombières Agreement, the Kingdom of Sardinia ceded Savoy and Nice to France, an event that caused the Niçard exodus, that was the emigration of a quarter of the Niçard Italians to Italy, and the Niçard Vespers.\n",
            "\n",
            "In 1860–1861, Garibaldi led the drive for unification in Naples and Sicily (the Expedition of the Thousand), while the House of Savoy troops occupied the central territories of the Italian peninsula, except Rome and part of Papal States. Teano was the site of the famous meeting of 26 October 1860 between Giuseppe Garibaldi and Victor Emmanuel II, last King of Sardinia, in which Garibaldi shook Victor Emanuel's hand and hailed him as King of Italy; thus, Garibaldi sacrificed republican hopes for the sake of Italian unity under a monarchy. Cavour agreed to include Garibaldi's Southern Italy allowing it to join the union with the Kingdom of Sardinia in 1860. This allowed the Sardinian government to declare a united Italian kingdom on 17 March 1861. Victor Emmanuel II then became the first king of a united Italy, and the capital was moved from Turin to Florence. The title of \"King of Italy\" had been out of use since the abdication of Napoleon I of France on 6 April 1814.\n",
            "In 1866, Victor Emmanuel II allied with Prussia during the Austro-Prussian War, waging the Third Italian War of Independence which allowed Italy to annexe Venetia. Finally, in 1870, as France abandoned its garrisons in Rome during the disastrous Franco-Prussian War to keep the large Prussian Army at bay, the Italians rushed to fill the power gap by taking over the Papal States. Italian unification was completed and shortly afterwards Italy's capital was moved to Rome. Victor Emmanuel, Garibaldi, Cavour, and Mazzini have been referred as Italy's Four Fathers of the Fatherland.\n",
            "\n",
            "\n",
            "=== Liberal period ===\n",
            "\n",
            "The new Kingdom of Italy obtained Great Power status. The Constitutional Law of the Kingdom of Sardinia the Albertine Statute of 1848, was extended to the whole Kingdom of Italy in 1861, and provided for basic freedoms of the new State, but electoral laws excluded the non-propertied and uneducated classes from voting. The government of the new kingdom took place in a framework of parliamentary constitutional monarchy dominated by liberal forces. As Northern Italy quickly industrialised, the South and rural areas of the North remained underdeveloped and overpopulated, forcing millions of people to migrate abroad and fuelling a large and influential diaspora. The Italian Socialist Party constantly increased in strength, challenging the traditional liberal and conservative establishment.\n",
            "Starting in the last two decades of the 19th century, Italy developed into a colonial power by forcing under its rule Eritrea and Somalia in East Africa, Tripolitania and Cyrenaica in North Africa (later unified in the colony of Libya) and the Dodecanese islands. From 2 November 1899 to 7 September 1901, Italy also participated as part of the Eight-Nation Alliance forces during the Boxer Rebellion in China; on 7 September 1901, a concession in Tientsin was ceded to the country, and on 7 June 1902, the concession was taken into Italian possession and administered by a consul. In 1913, male universal suffrage was adopted. The pre-war period dominated by Giovanni Giolitti, Prime Minister five times between 1892 and 1921, was characterised by the economic, industrial, and political-cultural modernization of Italian society.\n",
            "\n",
            "Italy entered into the First World War in 1915 with the aim of completing national unity: for this reason, the Italian intervention in the First World War is also considered the Fourth Italian War of Independence, in a historiographical perspective that identifies in the latter the conclusion of the unification of Italy, whose military actions began during the revolutions of 1848 with the First Italian War of Independence.Italy, nominally allied with the German Empire and the Empire of Austria-Hungary in the Triple Alliance, in 1915 joined the Allies into World War I with a promise of substantial territorial gains, that included western Inner Carniola, former Austrian Littoral, Dalmatia as well as parts of the Ottoman Empire. The country gave a fundamental contribution to the victory of the conflict as one of the \"Big Four\" top Allied powers. The war on the Italian Front was initially inconclusive, as the Italian army got stuck in a long attrition war in the Alps, making little progress and suffering heavy losses. However, the reorganization of the army and the conscription of the so-called '99 Boys (Ragazzi del '99, all males born in 1899 who were turning 18) led to more effective Italian victories in major battles, such as on Monte Grappa and in a series of battles on the Piave river. Eventually, in October 1918, the Italians launched a massive offensive, culminating in the victory of Vittorio Veneto. The Italian victory, which was announced by the Bollettino della Vittoria and the Bollettino della Vittoria Navale, marked the end of the war on the Italian Front, secured the dissolution of the Austro-Hungarian Empire and was chiefly instrumental in ending the First World War less than two weeks later. Italian armed forces were also involved in the African theatre, the Balkan theatre, the Middle Eastern theatre, and then took part in the Occupation of Constantinople.\n",
            "During the war, more than 650,000 Italian soldiers and as many civilians died, and the kingdom went to the brink of bankruptcy. The Treaty of Saint-Germain-en-Laye (1919) and the Treaty of Rapallo (1920) allowed the annexation of Trentino Alto-Adige, Julian March, Istria, Kvarner as well as the Dalmatian city of Zara. The subsequent Treaty of Rome (1924) led to the annexation of the city of Fiume to Italy. Italy did not receive other territories promised by the Treaty of London (1915), so this outcome was denounced as a Mutilated victory. The rhetoric of Mutilated victory was adopted by Benito Mussolini and led to the rise of Italian fascism, becoming a key point in the propaganda of Fascist Italy. Historians regard Mutilated victory as a \"political myth\", used by fascists to fuel Italian imperialism and obscure the successes of liberal Italy in the aftermath of World War I. Italy also gained a permanent seat in the League of Nations's executive council.\n",
            "\n",
            "\n",
            "=== Fascist regime ===\n",
            "\n",
            "The socialist agitations that followed the devastation of the Great War, inspired by the Russian Revolution, led to counter-revolution and repression throughout Italy. The liberal establishment, fearing a Soviet-style revolution, started to endorse the small National Fascist Party, led by Benito Mussolini. In October 1922 the Blackshirts of the National Fascist Party attempted a mass demonstration and a coup named the \"March on Rome\" which failed but at the last minute, King Victor Emmanuel III refused to proclaim a state of siege and appointed Mussolini prime minister, thereby transferring political power to the fascists without armed conflict. Over the next few years, Mussolini banned all political parties and curtailed personal liberties, thus forming a dictatorship. These actions attracted international attention and eventually inspired similar dictatorships such as Nazi Germany and Francoist Spain.\n",
            "Italian Fascism is based upon Italian nationalism and imperialism, and in particular seeks to complete what it considers as the incomplete project of the unification of Italy by incorporating Italia Irredenta (unredeemed Italy) into the state of Italy. To the east of Italy, the Fascists claimed that Dalmatia was a land of Italian culture whose Italians, including those of Italianized South Slavic descent, had been driven out of Dalmatia and into exile in Italy, and supported the return of Italians of Dalmatian heritage. Mussolini identified Dalmatia as having strong Italian cultural roots for centuries, similarly to Istria, via the Roman Empire and the Republic of Venice. To the south of Italy, the Fascists claimed Malta, which belonged to the United Kingdom, and Corfu, which instead belonged to Greece; to the north claimed Italian Switzerland, while to the west claimed Corsica, Nice, and Savoy, which belonged to France. The Fascist regime produced literature on Corsica that presented evidence of the island's italianità. The Fascist regime produced literature on Nice that justified that Nice was an Italian land based on historic, ethnic, and linguistic grounds.\n",
            "The Armistice of Villa Giusti, which ended fighting between Italy and Austria-Hungary at the end of World War I, resulted in Italian annexation of neighbouring parts of Yugoslavia. During the interwar period, the fascist Italian government undertook a campaign of Italianisation in the areas it annexed, which suppressed Slavic language, schools, political parties, and cultural institutions. Between 1922 and the beginning of World War II, the affected people were also the German-speaking and Ladin-speaking populations of Trentino-Alto Adige, and the French- and Arpitan-speaking regions of the western Alps, such as the Aosta valley.Mussolini promised to bring Italy back as a great power in Europe, building a \"New Roman Empire\" and holding power over the Mediterranean Sea. In propaganda, Fascists used the ancient Roman motto \"Mare Nostrum\" (Latin for \"Our Sea\") to describe the Mediterranean. For this reason the Fascist regime engaged in interventionist foreign policy. In 1923, the Greek island of Corfu was briefly occupied by Italy, after the assassination of General Tellini in Greek territory. In 1925, Italy forced Albania to become a de facto protectorate. In 1935, Mussolini invaded Ethiopia and founded Italian East Africa, resulting in an international alienation and leading to Italy's withdrawal from the League of Nations; Italy allied with Nazi Germany and the Empire of Japan and strongly supported Francisco Franco in the Spanish civil war. In 1939, Italy formally annexed Albania. Italy entered World War II on 10 June 1940. The Italians initially advanced in British Somaliland, Egypt, the Balkans (establishing the Governorate of Dalmatia and Montenegro, the Province of Ljubljana, and the puppet states Independent State of Croatia and Hellenic State), and eastern fronts. They were, however, subsequently defeated on the Eastern Front as well as in the East African campaign and the North African campaign, losing as a result their territories in Africa and in the Balkans.\n",
            "During World War II, Italian war crimes included extrajudicial killings and ethnic cleansing by deportation of about 25,000 people, mainly Jews, Croats, and Slovenians, to the Italian concentration camps, such as Rab, Gonars, Monigo, Renicci di Anghiari, and elsewhere. Yugoslav Partisans perpetrated their own crimes against the local ethnic Italian population (Istrian Italians and Dalmatian Italians) during and after the war, including the foibe massacres.\n",
            "In Italy and Yugoslavia, unlike in Germany, few war crimes were prosecuted.\n",
            "An Allied invasion of Sicily began in July 1943, leading to the collapse of the Fascist regime and the fall of Mussolini on 25 July. Mussolini was deposed and arrested by order of King Victor Emmanuel III in co-operation with the majority of the members of the Grand Council of Fascism, which passed a motion of no confidence. On 8 September, Italy signed the Armistice of Cassibile, ending its war with the Allies. Shortly thereafter, the Germans, with the assistance of the Italian fascists, succeeded in taking control of northern and central Italy. The country remained a battlefield for the rest of the war, with the Allies slowly moving up from the south.\n",
            "In the north, the Germans set up the Italian Social Republic (RSI), a Nazi puppet state with Mussolini installed as leader after he was rescued by German paratroopers. Some Italian troops in the south were organised into the Italian Co-belligerent Army, which fought alongside the Allies for the rest of the war, while other Italian troops, loyal to Mussolini and his RSI, continued to fight alongside the Germans in the National Republican Army. Also, the post-armistice period saw the rise of a large anti-fascist resistance movement, the Resistenza. As result, the country descended into civil war; the Italian resistance fought a guerrilla war against the Nazi German occupiers and Italian Fascist forces, while clashes between the Fascist RSI Army and the Royalist Italian Co-Belligerent Army were rare. In late April 1945, with total defeat looming, Mussolini attempted to escape north, but was captured and summarily executed near Lake Como by Italian partisans. His body was then taken to Milan, where it was hung upside down at a service station for public viewing and to provide confirmation of his demise.Hostilities ended on 29 April 1945, when the German forces in Italy surrendered. Nearly half a million Italians (including civilians) died in the conflict, society was divided and the Italian economy had been all but destroyed; per capita income in 1944 was at its lowest point since the beginning of the 20th century. The aftermath of World War II left Italy also with an anger against the monarchy for its endorsement of the Fascist regime for the previous twenty years. These frustrations contributed to a revival of the Italian republican movement.\n",
            "\n",
            "\n",
            "=== Republican era ===\n",
            "\n",
            "Italy became a republic after the 1946 Italian institutional referendum held on 2 June 1946, a day celebrated since as Festa della Repubblica. This was the first time that Italian women voted at the national level, and the second time overall considering the local elections that were held a few months earlier in some cities. Victor Emmanuel III's son, Umberto II, was forced to abdicate and exiled. The Republican Constitution was approved on 1 January 1948. Under the Treaty of Peace with Italy, 1947, Istria, Kvarner, most of the Julian March as well as the Dalmatian city of Zara was annexed by Yugoslavia causing the Istrian-Dalmatian exodus, which led to the emigration of between 230,000 and 350,000 of local ethnic Italians (Istrian Italians and Dalmatian Italians), the others being ethnic Slovenians, ethnic Croatians, and ethnic Istro-Romanians, choosing to maintain Italian citizenship. Later, the Free Territory of Trieste was divided between the two states. Italy also lost all of its colonial possessions, formally ending the Italian Empire. In 1950, Italian Somaliland was made a United Nations Trust Territory under Italian administration until 1 July 1960. The Italian border that applies today has existed since 1975, when Trieste was formally re-annexed to Italy.\n",
            "Fears of a possible Communist takeover proved crucial for the first universal suffrage electoral outcome on 18 April 1948, when the Christian Democrats, under the leadership of Alcide De Gasperi, obtained a landslide victory. Consequently, in 1949 Italy became a member of NATO. The Marshall Plan helped to revive the Italian economy which, until the late 1960s, enjoyed a period of sustained economic growth commonly called the \"Economic Miracle\". In the 1950's, Italy became one of the six founding countries of the European Communities, following the 1952 establishment of the European Coal and Steel Community, and subsequent 1958 creations of the European Economic Community and European Atomic Energy Community. In 1993, the former two of these were incorporated into the European Union.\n",
            "\n",
            "From the late 1960s until the early 1980s, the country experienced the Years of Lead, a period characterised by economic crisis, especially after the 1973 oil crisis, widespread social conflicts and terrorist massacres carried out by opposing extremist groups, with the alleged involvement of US and Soviet intelligence. The Years of Lead culminated in the assassination of the Christian Democrat leader Aldo Moro in 1978 and the Bologna railway station massacre in 1980, where 85 people died.\n",
            "In the 1980s, for the first time since 1945, two governments were led by non-Christian-Democrat premiers: one republican, Giovanni Spadolini, and one socialist, Bettino Craxi; the Christian Democrats remained, however, the main government party. During Craxi's government, the economy recovered and Italy became the world's fifth-largest industrial nation after it gained the entry into the Group of Seven in the 1970s. However, as a result of his spending policies, the Italian national debt skyrocketed during the Craxi era, soon passing 100% of the country's GDP.\n",
            "\n",
            "Italy faced several terror attacks between 1992 and 1993 perpetrated by the Sicilian Mafia as a consequence of several life sentences pronounced during the \"Maxi Trial\", and of the new anti-mafia measures launched by the government. In 1992, two major dynamite attacks killed the judges Giovanni Falcone (23 May in the Capaci bombing) and Paolo Borsellino (19 July in the Via D'Amelio bombing). One year later (May–July 1993), tourist spots were attacked, such as the Via dei Georgofili in Florence, Via Palestro in Milan, and the Piazza San Giovanni in Laterano and Via San Teodoro in Rome, leaving 10 dead and 93 injured and causing severe damage to cultural heritage such as the Uffizi Gallery. The Catholic Church openly condemned the Mafia, and two churches were bombed and an anti-Mafia priest shot dead in Rome.\n",
            "Also in the early 1990s, Italy faced significant challenges, as voters – disenchanted with political paralysis, massive public debt and the extensive corruption system (known as Tangentopoli) uncovered by the Clean Hands (Mani Pulite) investigation – demanded radical reforms. The scandals involved all major parties, but especially those in the government coalition: the Christian Democrats, who ruled for almost 50 years, underwent a severe crisis and eventually disbanded, splitting up into several factions. The Communists reorganised as a social-democratic force. During the 1990s and the 2000s, centre-right (dominated by media magnate Silvio Berlusconi) and centre-left coalitions (led by university professor Romano Prodi) alternately governed the country.\n",
            "Amidst the Great Recession, Berlusconi resigned in 2011, and his conservative government was replaced by the technocratic cabinet of Mario Monti. Following the 2013 general election, the Vice-Secretary of the Democratic Party Enrico Letta formed a new government at the head of a right-left Grand coalition. In 2014, challenged by the new Secretary of the PD Matteo Renzi, Letta resigned and was replaced by Renzi. The new government started constitutional reforms such as the abolition of the Senate and a new electoral law. On 4 December the constitutional reform was rejected in a referendum and Renzi resigned; the Foreign Affairs Minister Paolo Gentiloni was appointed new Prime Minister.\n",
            "In the European migrant crisis of the 2010s, Italy was the entry point and leading destination for most asylum seekers entering the EU. From 2013 to 2018, the country took in over 700,000 migrants and refugees, mainly from sub-Saharan Africa, which caused strain on the public purse and a surge in the support for far-right or euro-sceptic political parties. The 2018 general election was characterised by a strong showing of the Five Star Movement and the League and the university professor Giuseppe Conte became the Prime Minister at the head of a populist coalition between these two parties. However, after only fourteen months the League withdrew its support to Conte, who formed a new unprecedented government coalition between the Five Star Movement and the centre-left.In 2020, Italy was severely hit by the COVID-19 pandemic. From March to May, Conte's government imposed a national lockdown as a measure to limit the spread of the disease, while further restrictions were introduced during the following winter. The measures, despite being widely approved by the public opinion, were also described as the largest suppression of constitutional rights in the history of the republic. With more than 155,000 confirmed victims, Italy was one of the countries with the highest total number of deaths in the worldwide coronavirus pandemic. The pandemic caused also a severe economic disruption, in which Italy resulted as one of the most affected countries.In February 2021, after a government crisis within his majority, Conte was forced to resign and Mario Draghi, former president of the European Central Bank, formed a national unity government supported by almost all the main parties, pledging to oversee implementation of economic stimulus to face the crisis caused by the pandemic. On 22 October 2022, Giorgia Meloni was sworn in as Italy's first female prime minister. Her Brothers of Italy party formed a right-wing government with the far-right League and Berlusconi's Forza Italia.\n",
            "\n",
            "\n",
            "== Geography ==\n",
            "\n",
            "Italy, whose territory largely coincides with the homonymous geographical region, is located in Southern Europe and it is also considered a part of western Europe, between latitudes 35° and 47° N, and longitudes 6° and 19° E. To the north, Italy borders France, Switzerland, Austria, and Slovenia and is roughly delimited by the Alpine watershed, enclosing the Po Valley and the Venetian Plain. To the south, it consists of the entirety of the Italian Peninsula and the two Mediterranean islands of Sicily and Sardinia (the two biggest islands of the Mediterranean), in addition to many smaller islands. The sovereign states of San Marino and the Vatican City are enclaves within Italy, while Campione d'Italia is an Italian exclave in Switzerland.The country's total area is 301,230 square kilometres (116,306 sq mi), of which 294,020 km2 (113,522 sq mi) is land and 7,210 km2 (2,784 sq mi) is water. Including the islands, Italy has a coastline and border of 7,600 kilometres (4,722 miles) on the Adriatic, Ionian, Tyrrhenian seas, and borders shared with France (488 km (303 mi)), Austria (430 km (267 mi)), Slovenia (232 km (144 mi)) and Switzerland (740 km (460 mi)). San Marino (39 km (24 mi)) and Vatican City (3.2 km (2.0 mi)), both enclaves, account for the remainder.\n",
            "\n",
            "Over 35% of the Italian territory is mountainous. The Apennine Mountains form the peninsula's backbone, and the Alps form most of its northern boundary, where Italy's highest point is located on Mont Blanc summit (Monte Bianco) (4,810 m or 15,780 ft). Other worldwide-known mountains in Italy include the Matterhorn (Monte Cervino), Monte Rosa, Gran Paradiso in the West Alps, and Bernina, Stelvio and Dolomites along the eastern side.\n",
            "The Po, Italy's longest river (652 kilometres or 405 miles), flows from the Alps on the western border with France and crosses the Padan plain on its way to the Adriatic Sea. The Po Valley is the largest plain in Italy, with 46,000 km2 (18,000 sq mi), and it represents over 70% of the total plain area in the country.Many elements of the Italian territory are of volcanic origin. Most of the small islands and archipelagos in the south, like Capraia, Ponza, Ischia, Eolie, Ustica and Pantelleria are volcanic islands. There are also active volcanoes: Mount Etna in Sicily (the largest active volcano in Europe), Vulcano, Stromboli, and Vesuvius (the only active volcano on mainland Europe).\n",
            "The five largest lakes are, in order of diminishing size: Garda (367.94 km2 or 142 sq mi), Maggiore (212.51 km2 or 82 sq mi, whose minor northern part is part of Switzerland), Como (145.9 km2 or 56 sq mi), Trasimeno (124.29 km2 or 48 sq mi) and Bolsena (113.55 km2 or 44 sq mi). Four different seas surround the Italian Peninsula in the Mediterranean Sea from three sides: the Adriatic Sea in the east, the Ionian Sea in the south, and the Ligurian Sea and the Tyrrhenian Sea in the west. The longest Italian river is the Po, which flows for either 652 km (405 mi) or 682 km (424 mi). Most of the rivers of Italy drain either into the Adriatic Sea or the Tyrrhenian Sea.Although the country includes the Italian peninsula, adjacent islands, and most of the southern Alpine basin, some of Italy's territory extends beyond the Alpine basin and some islands are located outside the Eurasian continental shelf. These territories are the comuni of: Livigno, Sexten, Innichen, Toblach (in part), Chiusaforte, Tarvisio, Graun im Vinschgau (in part), which are all part of the Danube's drainage basin, while the Val di Lei constitutes part of the Rhine's basin and the islands of Lampedusa and Lampione are on the African continental shelf.\n",
            "\n",
            "\n",
            "=== Environment ===\n",
            "\n",
            "After its quick industrial growth, Italy took a long time to confront its environmental problems. After several improvements, it now ranks 84th in the world for ecological sustainability. National parks cover about 5% of the country, while the total area protected by national parks, regional parks and nature reserves covers about 10.5% of the Italian territory, to which must be added 12% of coasts protected by marine protected areas.In the last decade, Italy has become one of the world's leading producers of renewable energy, ranking as the world's fourth largest holder of installed solar energy capacity and the sixth largest holder of wind power capacity in 2010. Renewable energies provided approximately 37% Italy's energy consumption in 2020.\n",
            "However, air pollution remains a severe problem, especially in the industrialised north, reaching the tenth highest level worldwide of industrial carbon dioxide emissions in the 1990s. Italy is the twelfth-largest carbon dioxide producer.Extensive traffic and congestion in the largest metropolitan areas continue to cause severe environmental and health issues, even if smog levels have decreased dramatically since the 1970s and 1980s, and the presence of smog is becoming an increasingly rarer phenomenon and levels of sulphur dioxide are decreasing.\n",
            "Many watercourses and coastal stretches have also been contaminated by industrial and agricultural activity, while because of rising water levels, Venice has been regularly flooded throughout recent years. Waste from industrial activity is not always disposed of by legal means and has led to permanent health effects on inhabitants of affected areas, as in the case of the Seveso disaster.\n",
            "The country has also operated several nuclear reactors between 1963 and 1990 but, after the Chernobyl disaster and a referendum on the issue the nuclear programme was terminated, a decision that was overturned by the government in 2008, planning to build up to four nuclear power plants with French technology. This was in turn struck down by a referendum following the Fukushima nuclear accident.Deforestation, illegal building developments and poor land-management policies have led to significant erosion all over Italy's mountainous regions, leading to major ecological disasters like the 1963 Vajont Dam flood, the 1998 Sarno and 2009 Messina mudslides.\n",
            "The country had a 2019 Forest Landscape Integrity Index mean score of 3.65/10, ranking it 142nd globally out of 172 countries.\n",
            "\n",
            "\n",
            "=== Biodiversity ===\n",
            "\n",
            "Italy has probably the highest level of faunal biodiversity in Europe, with over 57,000 species recorded, representing more than a third of all European fauna, and the highest level of biodiversity of both animal and plant species within the European Union. Italy's varied geological structure contributes to its high climate and habitat diversity. The Italian peninsula is in the centre of the Mediterranean Sea, forming a corridor between central Europe and North Africa, and has 8,000 km (5,000 mi) of coastline. Italy also receives species from the Balkans, Eurasia, and the Middle East. Italy's varied geological structure, including the Alps and the Apennines, Central Italian woodlands, and Southern Italian Garigue and Maquis shrubland, also contribute to high climate and habitat diversity.\n",
            "\n",
            "The fauna of Italy includes 4,777 endemic animal species, which include the Sardinian long-eared bat, Sardinian red deer, spectacled salamander, brown cave salamander, Italian newt, Italian frog, Apennine yellow-bellied toad, Italian wall lizard, Aeolian wall lizard, Sicilian wall lizard, Italian Aesculapian snake, and Sicilian pond turtle. In Italy there are 119 mammals species, 550 bird species, 69 reptile species, 39 amphibian species, 623 fish species and 56,213 invertebrate species, of which 37,303 insect species.The flora of Italy was traditionally estimated to comprise about 5,500 vascular plant species. However, as of 2005, 6,759 species are recorded in the Data bank of Italian vascular flora. Italy has 1,371 endemic plant species and subspecies, which include Sicilian Fir, Barbaricina columbine, Sea marigold, Lavender cotton and Ucriana violet. Italy is a signatory to the Berne Convention on the Conservation of European Wildlife and Natural Habitats and the Habitats Directive both affording protection to Italian fauna and flora.\n",
            "Italy has many botanical gardens and historic gardens, some of which are known outside the country. The Italian garden is stylistically based on symmetry, axial geometry and on the principle of imposing order over nature. It influenced the history of gardening, especially French gardens and English gardens. The Italian garden was influenced by Roman gardens and Italian Renaissance gardens.\n",
            "The Italian wolf is the national animal of Italy, while the national tree of the country is the strawberry tree. The reasons for this choice are related to the fact that the Italian wolf, which inhabits the Apennine Mountains and the Western Alps, features prominently in Latin and Italian cultures, such as in the legend of the founding of Rome, while the green leaves, white flowers and red berries of the strawberry tree, which is native to the Mediterranean region, recall the colours of the flag of Italy.\n",
            "\n",
            "\n",
            "=== Climate ===\n",
            "\n",
            "The climate of Italy is influenced by the large body of water of the Mediterranean Sea that surrounds Italy on every side except the north. These seas constitute a reservoir of heat and humidity for Italy. Within the southern temperate zone, they determine a Mediterranean climate with local differences due to the geomorphology of the territory, which tends to make its mitigating effects felt, especially in high pressure conditions.Because of the length of the peninsula and the mostly mountainous hinterland, the climate of Italy is highly diverse. In most of the inland northern and central regions, the climate ranges from humid subtropical to humid continental and oceanic. The climate of the Po valley geographical region is mostly humid subtropical, with cool winters and hot summers. The coastal areas of Liguria, Tuscany and most of the South generally fit the Mediterranean climate stereotype (Köppen climate classification).\n",
            "Conditions on the coast are different from those in the interior, particularly during winter months when the higher altitudes tend to be cold, wet, and often snowy. The coastal regions have mild winters and hot and generally dry summers; lowland valleys are hot in summer. Average winter temperatures vary from around 0 °C (32 °F) in the Alps to 12 °C (54 °F) in Sicily, so average summer temperatures range from 20 °C (68 °F) to over 25 °C (77 °F).\n",
            "Winters can vary widely across the country with lingering cold, foggy and snowy periods in the north and milder, sunnier conditions in the south. Summers are hot across the country, except for at high altitude, particularly in the south. Northern and central areas can experience occasional strong thunderstorms from spring to autumn.\n",
            "\n",
            "\n",
            "== Politics ==\n",
            "\n",
            "Italy has been a unitary parliamentary republic since 2 June 1946, when the monarchy was abolished by a constitutional referendum. The President of Italy (Presidente della Repubblica), currently Sergio Mattarella since 2015, is Italy's head of state. The President is elected for a single seven years mandate by the Parliament of Italy and some regional voters in joint session. Italy has a written democratic constitution, resulting from the work of a Constituent Assembly formed by the representatives of all the anti-fascist forces that contributed to the defeat of Nazi and Fascist forces during the Italian Civil War.\n",
            "\n",
            "\n",
            "=== Government ===\n",
            "\n",
            "Italy has a parliamentary government based on a mixed proportional and majoritarian voting system. The parliament is perfectly bicameral: the two houses, the Chamber of Deputies that meets in Palazzo Montecitorio, and the Senate of the Republic that meets in Palazzo Madama, have the same powers. The Prime Minister, officially President of the Council of Ministers (Presidente del Consiglio dei Ministri), is Italy's head of government. The Prime Minister and the cabinet are appointed by the President of the Republic of Italy and must pass a vote of confidence in Parliament to come into office. To remain the Prime Minister has to pass also eventual further votes of confidence or no confidence in Parliament.\n",
            "The prime minister is the President of the Council of Ministers – which holds effective executive power – and must receive a vote of approval from it to execute most political activities. The office is similar to those in most other parliamentary systems, but the head of the Italian government is not authorised to request the dissolution of the Parliament of Italy.\n",
            "\n",
            "Another difference with similar offices is that the overall political responsibility for intelligence is vested in the President of the Council of Ministers. By virtue of that, the Prime Minister has exclusive power to coordinate intelligence policies, determine the financial resources and strengthen national cyber security; apply and protect State secrets; authorise agents to carry out operations, in Italy or abroad, in violation of the law.A peculiarity of the Italian Parliament is the representation given to Italian citizens permanently living abroad: 8 Deputies and 4 Senators elected in four distinct overseas constituencies. In addition, the Italian Senate is characterised also by a small number of senators for life, appointed by the President \"for outstanding patriotic merits in the social, scientific, artistic or literary field\". Former Presidents of the Republic are ex officio life senators.\n",
            "Italy's three major political parties are the Brothers of Italy, the Democratic Party and the Five Star Movement. During the 2022 general election, these three parties and their coalitions won 357 out of 400 seats available in the Chamber of Deputies and 187 out of 200 in the Senate. The centre-right coalition, which included Giorgia Meloni's Brothers of Italy, Matteo Salvini's League, Silvio Berlusconi's Forza Italia and Maurizio Lupi's Us Moderates, won a majority of the seats in parliament. The rest of the seats were taken by the centre-left coalition, which included Enrico Letta's Democratic Party, Angelo Bonelli's Greens and Left Alliance, Aosta Valley, Emma Bonino's More Europe & Luigi Di Maio's Civic Commitment, as well as by Giuseppe Conte's Five Star Movement, Carlo Calenda's Action - Italia Viva, Philipp Achammer and Stefan Premstaller's South Tyrolean People's Party, Cateno De Luca's South Calls North and Ricardo Antonio Merlo's Associative Movement of Italians Abroad.\n",
            "\n",
            "\n",
            "=== Law and criminal justice ===\n",
            "\n",
            "The law of Italy has a plurality of sources of production. These are arranged in a hierarchical scale, under which the rule of a lower source cannot conflict with the rule of an upper source (hierarchy of sources). The Constitution of 1948 is the main source.\n",
            "The judiciary of Italy is based on Roman law modified by the Napoleonic code and later statutes. The Supreme Court of Cassation is the highest court in Italy for both criminal and civil appeal cases. The Constitutional Court of Italy (Corte Costituzionale) rules on the conformity of laws with the constitution and is a post–World War II innovation.\n",
            "Since their appearance in the middle of the 19th century, Italian organised crime and criminal organisations have infiltrated the social and economic life of many regions in Southern Italy, the most notorious of which being the Sicilian Mafia, which would later expand into some foreign countries including the United States. Mafia receipts may reach 9% of Italy's GDP.A 2009 report identified 610 comuni which have a strong Mafia presence, where 13 million Italians live and 14.6% of the Italian GDP is produced. The Calabrian 'Ndrangheta, nowadays probably the most powerful crime syndicate of Italy, accounts alone for 3% of the country's GDP. However, at 0.013 per 1,000 people, Italy has only the 47th highest murder rate compared to 61 countries and the 43rd highest number of rapes per 1,000 people compared to 64 countries in the world. These are relatively low figures among developed countries.\n",
            "The Italian law enforcement system is complex, with multiple police forces. The national policing agencies are the Polizia di Stato (State Police), the Arma dei Carabinieri, the Guardia di Finanza (Financial Guard), and the Polizia Penitenziaria (Prison Police), as well as the Guardia Costiera (coast guard police). Although policing in Italy is primarily provided on a national basis, there also exists Polizia Provinciale (provincial police) and Polizia Municipale (municipal police).Italy is regarded as being behind other Western European nations with regards to LGBT rights. Additionally, Italy's law prohibiting torture is considered behind international standards.\n",
            "\n",
            "\n",
            "=== Foreign relations ===\n",
            "\n",
            "Italy is a founding member of the European Economic Community (EEC), now the European Union (EU), and of NATO. Italy was admitted to the United Nations in 1955, and it is a member and a strong supporter of a wide number of international organisations, such as the Organisation for Economic Co-operation and Development (OECD), the General Agreement on Tariffs and Trade/World Trade Organization (GATT/WTO), the Organization for Security and Co-operation in Europe (OSCE), the Council of Europe, and the Central European Initiative. Its recent or upcoming turns in the rotating presidency of international organisations include the Organization for Security and Co-operation in Europe in 2018, the G7 in 2017 and the EU Council from July to December 2014. Italy is also a recurrent non-permanent member of the UN Security Council, the most recently in 2017.\n",
            "Italy strongly supports multilateral international politics, endorsing the United Nations and its international security activities. In 2013, Italy had 5,296 troops deployed abroad, engaged in 33 UN and NATO missions in 25 countries of the world. Italy deployed troops in support of UN peacekeeping missions in Somalia, Mozambique, and East Timor and provides support for NATO and UN operations in Bosnia, Kosovo and Albania. Italy deployed over 2,000 troops in Afghanistan in support of Operation Enduring Freedom (OEF) from February 2003.\n",
            "Italy supported international efforts to reconstruct and stabilise Iraq, but it had withdrawn its military contingent of some 3,200 troops by 2006, maintaining only humanitarian operators and other civilian personnel.\n",
            "In August 2006 Italy deployed about 2,450 troops in Lebanon for the United Nations' peacekeeping mission UNIFIL. Italy is one of the largest financiers of the Palestinian National Authority, contributing €60 million in 2013 alone.\n",
            "\n",
            "\n",
            "=== Military ===\n",
            "\n",
            "The Italian Army, Navy, Air Force and Carabinieri collectively form the Italian Armed Forces, under the command of the High Council of Defence, presided over by the President of Italy, as established by article 87 of the Constitution of Italy. According to article 78, the Parliament has the authority to declare a state of war and vest the necessary powers in the Government.\n",
            "Despite not being a branch of the armed forces, the Guardia di Finanza (\"Financial Guard\") has military status and is organized along military lines. Since 2005, military service is voluntary. In 2010, the Italian military had 293,202 personnel on active duty, of which 114,778 are Carabinieri. As part of NATO's nuclear sharing strategy Italy also hosts 90 United States B61 nuclear bombs, located in the Ghedi and Aviano air bases.The Italian Army is the national ground defence force. Its best-known combat vehicles are the Dardo infantry fighting vehicle, the Centauro tank destroyer and the Ariete tank, and among its aircraft the Mangusta attack helicopter, in the last years deployed in EU, NATO and UN missions. It also has at its disposal many Leopard 1 and M113 armoured vehicles. It was formed in 1946 from what remained of the Regio Esercito (\"Royal Army\", which was established on the occasion of the proclamation of the Kingdom of Italy, 1861) after World War II, when Italy became a republic following a referendum.\n",
            "The Italian Navy is a blue-water navy. In modern times the Italian Navy, being a member of the EU and NATO, has taken part in many coalition peacekeeping operations around the world. It was formed in 1946 from what remained of the Regia Marina (\"Royal Navy\", which was established on the occasion of the proclamation of the Kingdom of Italy, 1861) after World War II, when Italy became a republic following a referendum. The Italian Navy in 2014 operates 154 vessels in service, including minor auxiliary vessels.The Italian Air Force in 2021 operates 219 combat jets. A transport capability is guaranteed by a fleet of 27 C-130Js and C-27J Spartan. The Italian Air Force was founded as an independent service arm on 28 March 1923 by King Victor Emmanuel III as the Regia Aeronautica (\"Royal Air Force\"). After World War II, when Italy became a republic following a referendum, the Regia Aeronautica was given its current name. The acrobatic display team is the Frecce Tricolori (\"Tricolour Arrows\").\n",
            "An autonomous corps of the military, the Carabinieri are the gendarmerie and military police of Italy, policing the military and civilian population alongside Italy's other police forces. While the different branches of the Carabinieri report to separate ministries for each of their individual functions, the corps reports to the Ministry of Internal Affairs when maintaining public order and security.\n",
            "\n",
            "\n",
            "=== Administrative divisions ===\n",
            "\n",
            "Italy is constituted by 20 regions (regioni)—five of these regions having a special autonomous status that enables them to enact legislation on additional matters, 107 provinces (province) or metropolitan cities (città metropolitane), and 7,904 municipalities (comuni). This is a list of regions in Italy:\n",
            "\n",
            "Abruzzo\n",
            "Aosta Valley\n",
            "Apulia\n",
            "Basilicata\n",
            "Calabria\n",
            "Campania\n",
            "Emilia-Romagna\n",
            "Friuli Venezia Giulia\n",
            "Lazio\n",
            "Liguria\n",
            "Lombardy\n",
            "Marche\n",
            "Molise\n",
            "Piedmont\n",
            "Sardinia\n",
            "Sicily\n",
            "Trentino-Alto Adige/Südtirol\n",
            "Tuscany\n",
            "Umbria\n",
            "Veneto\n",
            "\n",
            "\n",
            "== Economy ==\n",
            "\n",
            "Italy has a major advanced capitalist mixed economy, ranking as the third-largest in the Eurozone and the eighth-largest in the world. A founding member of the G7, the Eurozone and the OECD, it is regarded as one of the world's most industrialised nations and a leading country in world trade and exports. It is a highly developed country; ranked the 30th Human Development Index. It also performs well in life expectancy, healthcare and education. The country is well known for its creative and innovative business, a large and competitive agricultural sector (with the world's largest wine production), and for its influential and high-quality automobile, machinery, food, design and fashion industry.Italy is the world's sixth-largest manufacturing country, characterised by a smaller number of global multinational corporations than other economies of comparable size and many dynamic small and medium-sized enterprises, notoriously clustered in several industrial districts, which are the backbone of the Italian industry. This has produced a manufacturing sector often focused on the export of niche market and luxury products, that if on one side is less capable to compete on the quantity, on the other side is more capable of facing the competition from China and other emerging Asian economies based on lower labour costs, with higher quality products. Italy was the world's tenth-largest exporter in 2019. Its closest trade ties are with the other countries of the European Union. Its largest export partners in 2019 were Germany (12%), France (11%), and the United States (10%).\n",
            "The automotive industry is a significant part of the Italian manufacturing sector, with over 144,000 firms and almost 485,000 employed people in 2015, and a contribution of 8.5% to Italian GDP. Stellantis is currently the world's fifth-largest auto maker. The country boasts a wide range of acclaimed products, from compact city cars to luxury supercars such as Maserati, Pagani, Lamborghini, and Ferrari.The Banca Monte dei Paschi di Siena is the world's oldest or second oldest bank in continuous operation, depending on the definition, and the fourth-largest Italian commercial and retail bank. Italy has a strong cooperative sector, with the largest share of the population (4.5%) employed by a cooperative in the EU. The Val d'Agri area, Basilicata, hosts the largest onshore hydrocarbon field in Europe. Moderate natural gas reserves, mainly in the Po Valley and offshore Adriatic Sea, have been discovered in recent years and constitute the country's most important mineral resource. Italy is one of the world's leading producers of pumice, pozzolana, and feldspar. Another notable mineral resource is marble, especially the world-famous white Carrara marble from the Massa and Carrara quarries in Tuscany.\n",
            "Italy is part of a monetary union, the Eurozone, and of the European single market, which represents more than 500 million consumers. Several domestic commercial policies are determined by agreements among European Union (EU) members and by EU legislation. Italy introduced the common European currency, the Euro in 2002. It is a member of the Eurozone which represents around 330 million citizens. Its monetary policy is set by the European Central Bank.\n",
            "Italy was hit hard by the Financial crisis of 2007–08, that exacerbated the country's structural problems. Effectively, after a strong GDP growth of 5–6% per year from the 1950s to the early 1970s, and a progressive slowdown in the 1980–90s, the country virtually stagnated in the 2000s. The political efforts to revive growth with massive government spending eventually produced a severe rise in public debt, that stood at over 131.8% of GDP in 2017, ranking second in the EU only after the Greek one. For all that, the largest chunk of Italian public debt is owned by national subjects, a major difference between Italy and Greece, and the level of household debt is much lower than the OECD average.A gaping North–South divide is a major factor of socio-economic weakness. It can be noted by the huge difference in statistical income between the northern and southern regions and municipalities. The richest province, Alto Adige-South Tyrol, earns 152% of the national GDP per capita, while the poorest region, Calabria, 61%. The unemployment rate (11.1%) stands slightly above the Eurozone average, but the disaggregated figure is 6.6% in the North and 19.2% in the South. The youth unemployment rate (31.7% in March 2018) is extremely high compared to EU standards.\n",
            "\n",
            "\n",
            "=== Agriculture ===\n",
            "\n",
            "According to the last national agricultural census, there were 1.6 million farms in 2010 (−32.4% since 2000) covering 12,700,000 ha or 31,382,383 acres (63% of which are located in Southern Italy). The vast majority (99%) are family-operated and small, averaging only 8 ha (20 acres) in size. Of the total surface area in agricultural use (forestry excluded), grain fields take up 31%, olive tree orchards 8.2%, vineyards 5.4%, citrus orchards 3.8%, sugar beets 1.7%, and horticulture 2.4%. The remainder is primarily dedicated to pastures (25.9%) and feed grains (11.6%).Italy is the world's largest wine producer, and one of the leading in olive oil, fruits (apples, olives, grapes, oranges, lemons, pears, apricots, hazelnuts, peaches, cherries, plums, strawberries and kiwifruits), and vegetables (especially artichokes and tomatoes). The most famous Italian wines are probably the Tuscan Chianti and the Piedmontese Barolo. Other famous wines are Barbaresco, Barbera d'Asti, Brunello di Montalcino, Frascati, Montepulciano d'Abruzzo, Morellino di Scansano, and the sparkling wines Franciacorta and Prosecco.\n",
            "Quality goods in which Italy specialises, particularly the already mentioned wines and regional cheeses, are often protected under the quality assurance labels DOC/DOP. This geographical indication certificate, which is attributed by the European Union, is considered important in order to avoid confusion with low-quality mass-produced ersatz products.\n",
            "\n",
            "\n",
            "=== Transport ===\n",
            "\n",
            "Italy was the first country in the world to build motorways, the so-called autostrade, reserved for fast traffic and for motor vehicles only. Regarding the national road network, in 2002 there were 668,721 km (415,524 mi) of serviceable roads in Italy, including 6,487 km (4,031 mi) of motorways, state-owned but privately operated by Atlantia. In 2005, about 34,667,000 passenger cars (590 cars per 1,000 people) and 4,015,000 goods vehicles circulated on the national road network.The national railway network, state-owned and operated by Rete Ferroviaria Italiana (FSI), in 2008 totalled 16,529 km (10,271 mi) of which 11,727 km (7,287 mi) is electrified, and on which 4,802 locomotives and railcars run. The main public operator of high-speed trains is Trenitalia, part of FSI. Higher-speed trains are divided into three categories: Frecciarossa (English: red arrow) trains operate at a maximum speed of 300 km/h on dedicated high-speed tracks; Frecciargento (English: silver arrow) trains operate at a maximum speed of 250 km/h on both high-speed and mainline tracks; and Frecciabianca (English: white arrow) trains operate on high-speed regional lines at a maximum speed of 200 km/h. Italy has 11 rail border crossings over the Alpine mountains with its neighbouring countries.\n",
            "Italy is the fifth in Europe by the number of passengers by air transport, with about 148 million passengers or about 10% of the European total in 2011. In 2022 there were 45 civil airports in Italy, including the two hubs of Malpensa International Airport in Milan and Leonardo da Vinci International Airport in Rome. Since October 2021, Italy's flag carrier airline is ITA Airways, which took over the brand, the IATA ticketing code, and many assets belonging to the former flag carrier Alitalia, after its bankruptcy.In 2004 there were 43 major seaports, including the seaport of Genoa, the country's largest and second-largest in the Mediterranean Sea. In 2005 Italy maintained a civilian air fleet of about 389,000 units and a merchant fleet of 581 ships. The national inland waterways network has a length of 2,400 km (1,491 mi) for commercial traffic in 2012.Italy has been the final destination of the Silk Road for many centuries. In particular, the construction of the Suez Canal intensified sea trade with East Africa and Asia from the 19th century. Since the end of the Cold War and increasing European integration, the trade relations, which were often interrupted in the 20th century, have intensified again and the northern Italian ports such as the deep-water port of Trieste in the northernmost part of the Mediterranean with its extensive rail connections to Central and Eastern Europe are once again the destination of government subsidies and significant foreign investment.\n",
            "\n",
            "\n",
            "=== Energy ===\n",
            "\n",
            "In the last decade, Italy has become one of the world's largest producers of renewable energy, ranking as the second largest producer in the European Union and the ninth in the world. Wind power, hydroelectricity, and geothermal power are also significant sources of electricity in the country. Renewable sources account for 27.5% of all electricity produced in Italy, with hydro alone reaching 12.6%, followed by solar at 5.7%, wind at 4.1%, bioenergy at 3.5%, and geothermal at 1.6%. The rest of the national demand is covered by fossil fuels (38.2% natural gas, 13% coal, 8.4% oil) and by imports. Eni, with operations in 79 countries, is considered one of the seven \"Supermajor\" oil companies in the world, and one of the world's largest industrial companies.Solar energy production alone accounted for almost 9% of the total electric production in the country in 2014, making Italy the country with the highest contribution from solar energy in the world. The Montalto di Castro Photovoltaic Power Station, completed in 2010, is the largest photovoltaic power station in Italy with 85 MW. Other examples of large PV plants in Italy are San Bellino (70.6 MW), Cellino san Marco (42.7 MW) and Sant' Alberto (34.6 MW). Italy was the first country in the world to exploit geothermal energy to produce electricity. Italy had managed four nuclear reactors until the 1980s. However, nuclear power in Italy has been abandoned following a 1987 referendum (in the wake of the 1986 Chernobyl disaster in Soviet Ukraine), though Italy still imports nuclear energy from Italy-owned reactors in foreign territories.\n",
            "\n",
            "\n",
            "=== Science and technology ===\n",
            "\n",
            "Through the centuries, Italy has fostered the scientific community that produced many major discoveries in physics and other sciences. During the Renaissance Italian polymaths such as Leonardo da Vinci (1452–1519), Michelangelo (1475–1564) and Leon Battista Alberti (1404–1472) made contributions in a variety of fields, including biology, architecture, and engineering. Galileo Galilei (1564–1642), an astronomer, physicist, engineer, and polymath, played a major role in the Scientific Revolution. He is considered the \"father\" of observational astronomy, modern physics, the scientific method, and modern science.Other astronomers such as Giovanni Domenico Cassini (1625–1712) and Giovanni Schiaparelli (1835–1910) made discoveries about the Solar System. In mathematics, Joseph Louis Lagrange (born Giuseppe Lodovico Lagrangia, 1736–1813) was active before leaving Italy. Fibonacci (c. 1170 – c. 1250), and Gerolamo Cardano (1501–1576) made fundamental advances in mathematics. Luca Pacioli established accounting to the world. Physicist Enrico Fermi (1901–1954), a Nobel prize laureate, led the team in Chicago that developed the first nuclear reactor. He is considered the \"architect of the nuclear age\" and the \"architect of the atomic bomb\". He, Emilio G. Segrè (1905–1989) who discovered the elements technetium and astatine, and the antiproton), Bruno Rossi (1905–1993) a pioneer in Cosmic Rays and X-ray astronomy) and a number of Italian physicists were forced to leave Italy in the 1930s by Fascist laws against Jews.Other prominent physicists include: Amedeo Avogadro (most noted for his contributions to molecular theory, in particular, the Avogadro's law and the Avogadro constant), Evangelista Torricelli (inventor of barometer), Alessandro Volta (inventor of electric battery), Guglielmo Marconi (inventor of radio), Galileo Ferraris and Antonio Pacinotti, pioneers of the induction motor, Alessandro Cruto, pioneer of light bulb and Innocenzo Manzetti, eclectic pioneer of auto and robotics, Ettore Majorana (who discovered the Majorana fermions), Carlo Rubbia (1984 Nobel Prize in Physics for work leading to the discovery of the W and Z particles at CERN). Antonio Meucci is known for developing a voice-communication device which is often credited as the first telephone. Pier Giorgio Perotto in 1964 designed one of the first desktop programmable calculators, the Programma 101.In biology, Francesco Redi has been the first to challenge the theory of spontaneous generation by demonstrating that maggots come from eggs of flies and he described 180 parasites in detail and Marcello Malpighi founded microscopic anatomy, Lazzaro Spallanzani conducted research in bodily functions, animal reproduction, and cellular theory, Camillo Golgi, whose many achievements include the discovery of the Golgi complex, paved the way to the acceptance of the Neuron doctrine, Rita Levi-Montalcini discovered the nerve growth factor (awarded 1986 Nobel Prize in Physiology or Medicine). In chemistry, Giulio Natta received the Nobel Prize in Chemistry in 1963 for his work on high polymers. Giuseppe Occhialini received the Wolf Prize in Physics for the discovery of the pion or pi-meson decay in 1947. Ennio de Giorgi, a Wolf Prize in Mathematics recipient in 1990, solved Bernstein's problem about minimal surfaces and the 19th Hilbert problem on the regularity of solutions of Elliptic partial differential equations.Laboratori Nazionali del Gran Sasso (LNGS) is the largest underground research centre in the world. ELETTRA, Eurac Research, ESA Centre for Earth Observation, Institute for Scientific Interchange, International Centre for Genetic Engineering and Biotechnology, Centre for Maritime Research and Experimentation and the International Centre for Theoretical Physics conduct basic research. Trieste has the highest percentage of researchers in Europe in relation to the population. Italy was ranked 28th in the Global Innovation Index in 2022. There are numerous technology parks in Italy such as the Science and Technology Parks Kilometro Rosso (Bergamo), the AREA Science Park (Trieste), The VEGA-Venice Gateway for Science and Technology (Venezia), the Toscana Life Sciences (Siena), the Technology Park of Lodi Cluster (Lodi), and the Technology Park of Navacchio (Pisa), as well as science museums such as the Museo Nazionale Scienza e Tecnologia Leonardo da Vinci in Milan, the Città della Scienza in Naples and the Institute and Museum of the History of Science in Florence.\n",
            "Within this great Italian History of Science and Technology, modern times tell a different and more technologically divergent story. The North–South divide is a significant factor that leads to a vast difference in income between the Northern and Southern regions, which brings up the topic of the Digital Divide in Italy. The long history of this divided peninsula, now a unified nation-state, details the complex problems of underdeveloped areas in the South. As expected, these problems of underdevelopment and poverty still linger today, also reflected in the concept of the digital divide between the North and South. The Global digital divide is broadly described as the technological differences between underdeveloped and developed countries. While this does not necessarily mean that people have no access to technology, it is made clear that this equates to differences in technology, such as the Internet and household electronics. Digital inequalities between Northern and Southern Italy exist and are still prevalent, especially when related to education.\n",
            "\n",
            "\n",
            "=== Tourism ===\n",
            "\n",
            "People have visited Italy for centuries, yet the first to visit the peninsula for touristic reasons were aristocrats during the Grand Tour, beginning in the 17th century, and flourishing in the 18th and the 19th century. This was a period in which European aristocrats, many of whom were British, visited parts of Europe, with Italy as a key destination. For Italy, this was in order to study ancient architecture, local culture and to admire the natural beauties.Nowadays Italy is the fifth most visited country in international tourism, with a total of 52.3 million international arrivals in 2016. The total contribution of travel & tourism to GDP (including wider effects from investment, the supply chain and induced income impacts) was EUR162.7bn in 2014 (10.1% of GDP) and generated 1,082,000 jobs directly in 2014 (4.8% of total employment).Factors of tourist interest in Italy are mainly culture, cuisine, history, fashion, architecture, art, religious sites and routes, wedding tourism, naturalistic beauties, nightlife, underwater sites and spas. Winter and summer tourism are present in many locations in the Alps and the Apennines, while seaside tourism is widespread in coastal locations on the Mediterranean Sea. Italy is the leading cruise tourism destination in the Mediterranean Sea. Small, historical and artistic Italian villages are promoted through the association I Borghi più belli d'Italia (literally \"The Most Beautiful Villages of Italy\").\n",
            "The most visited regions of Italy, measured by nights spent in tourist accommodation establishments, are Veneto, Tuscany, Lombardy, Emilia-Romagna and Lazio. Rome is the 3rd most visited city in Europe and the 12th in the world, with 9.4 million arrivals in 2017 while Milan is the 27th worldwide with 6.8 million tourists. In addition, Venice and Florence are also among the world's top 100 destinations.\n",
            "Italy is also the country with the highest number of UNESCO World Heritage Sites in the world (58). Out of Italy's 58 heritage sites, 53 are cultural and 5 are natural. In Italy there is a broad variety of hotels, going from 1–5 stars. According to ISTAT, in 2017, there were 32,988 hotels with 1,133,452 rooms and 2,239,446 beds. As for non-hotel facilities (campsites, tourist villages, accommodations for rent, agritourism, etc.), in 2017 their number was 171,915 with 2,798,352 beds.\n",
            "\n",
            "\n",
            "== Demographics ==\n",
            "\n",
            "At the beginning of 2020, Italy had 60,317,116 inhabitants. The resulting population density, at 202 inhabitants per square kilometre (520/sq mi), is higher than that of most Western European countries. However, the distribution of the population is widely uneven. The most densely populated areas are the Po Valley (that accounts for almost a half of the national population) and the metropolitan areas of Rome and Naples, while vast regions such as the Alps and Apennines highlands, the plateaus of Basilicata and the island of Sardinia, as well as much of Sicily, are sparsely populated.\n",
            "The population of Italy almost doubled during the 20th century, but the pattern of growth was extremely uneven because of large-scale internal migration from the rural South to the industrial cities of the North, a phenomenon which happened as a consequence of the Italian economic miracle of the 1950–1960s. High fertility and birth rates persisted until the 1970s, after which they started to decline. The population rapidly aged; by 2010, one in five Italians was over 65 years old, and the country currently has the fifth oldest population in the world, with a median age of 46.5 years. However, in recent years Italy has experienced significant growth in birth rates. The total fertility rate has also climbed from an all-time low of 1.18 children per woman in 1995 to 1.41 in 2008, albeit still below the replacement rate of 2.1 and considerably below the high of 5.06 children born per woman in 1883. Nevertheless, the total fertility rate is expected to reach 1.6–1.8 in 2030.From the late 19th century until the 1960s Italy was a country of mass emigration. Between 1898 and 1914, the peak years of Italian diaspora, approximately 750,000 Italians emigrated each year. The diaspora concerned more than 25 million Italians and it is considered the biggest mass migration of contemporary times. As a result, today more than 4.1 million Italian citizens are living abroad, while at least 60 million people of full or part Italian ancestry live outside of Italy, most notably in Argentina, Brazil, Uruguay, Venezuela, the United States, Canada, Australia and France.\n",
            "\n",
            "\n",
            "=== Largest cities ===\n",
            "\n",
            "\n",
            "=== Immigration ===\n",
            "\n",
            "In 2021, Italy had about 5.17 million foreign residents, making up 8.7% of the total population. The figures include more than half a million children born in Italy to foreign nationals (second generation immigrants) but exclude foreign nationals who have subsequently acquired Italian citizenship; in 2016, about 201,000 people became Italian citizens. The official figures also exclude illegal immigrants, who estimated to number at least 670,000 as of 2008.Starting from the early 1980s, until then a linguistically and culturally homogeneous society, Italy begun to attract substantial flows of foreign immigrants. After the fall of the Berlin Wall and, more recently, the 2004 and 2007 enlargements of the European Union, large waves of migration originated from the former socialist countries of Eastern Europe (especially Romania, Albania, Ukraine and Poland). Another source of immigration is neighbouring North Africa (in particular, Morocco, Egypt and Tunisia), with soaring arrivals as a consequence of the Arab Spring. Furthermore, in recent years, growing migration fluxes from Asia-Pacific (notably China and the Philippines) and Latin America have been recorded.\n",
            "Currently, about one million Romanian citizens (around 10% of them being ethnic Romani people) are officially registered as living in Italy, representing the largest migrant population, followed by Albanians and Moroccans with about 500,000 people each. The number of unregistered Romanians is difficult to estimate, but the Balkan Investigative Reporting Network suggested in 2007 that there might have been half a million or more.As of 2010, the foreign born population of Italy was from the following regions: Europe (54%), Africa (22%), Asia (16%), the Americas (8%) and Oceania (0.06%). The distribution of foreign population is geographically varied in Italy: in 2020, 61.2% of foreign citizens lived in Northern Italy (in particular 36.1% in the North West and 25.1% in the North East), 24.2% in the centre, 10.8% in the South and 3.9% in the Islands.\n",
            "\n",
            "\n",
            "=== Languages ===\n",
            "\n",
            "Italy's official language is Italian, as stated by the framework law no. 482/1999 and Trentino Alto-Adige's special Statute, which is adopted with a constitutional law. Around the world there are an estimated 64 million native Italian speakers and another 21 million who use it as a second language. Italian is often natively spoken in a regional variety, not to be confused with Italy's regional and minority languages; however, the establishment of a national education system led to a decrease in variation in the languages spoken across the country during the 20th century. Standardisation was further expanded in the 1950s and 1960s due to economic growth and the rise of mass media and television (the state broadcaster RAI helped set a standard Italian).\n",
            "Twelve \"historical minority languages\" (minoranze linguistiche storiche) are formally recognised: Albanian, Catalan, German, Greek, Slovene, Croatian, French, Franco-Provençal, Friulian, Ladin, Occitan and Sardinian. Four of these also enjoy a co-official status in their respective region: French in the Aosta Valley; German in South Tyrol, and Ladin as well in some parts of the same province and in parts of the neighbouring Trentino; and Slovene in the provinces of Trieste, Gorizia and Udine. A number of other Ethnologue, ISO and UNESCO languages are not recognised by Italian law. Like France, Italy has signed the European Charter for Regional or Minority Languages, but has not ratified it.Because of recent immigration, Italy has sizeable populations whose native language is not Italian, nor a regional language. According to the Italian National Institute of Statistics, Romanian is the most common mother tongue among foreign residents in Italy: almost 800,000 people speak Romanian as their first language (21.9% of the foreign residents aged 6 and over). Other prevalent mother tongues are Arabic (spoken by over 475,000 people; 13.1% of foreign residents), Albanian (380,000 people) and Spanish (255,000 people).\n",
            "\n",
            "\n",
            "=== Religion ===\n",
            "\n",
            "In 2017, the proportion of Italians who identified themselves as Roman Catholic Christians was 74.4%. Since 1985, Catholicism is no longer officially the state religion. Italy has the world's fifth-largest Catholic population, and is the largest Catholic nation in Europe.The Holy See, the episcopal jurisdiction of Rome, contains the central government of the Catholic Church. It is recognised by other subjects of international law as a sovereign entity, headed by the Pope, who is also the Bishop of Rome, with which diplomatic relations can be maintained. Often incorrectly referred to as \"the Vatican\", the Holy See is not the same entity as the Vatican City State because the Holy See is the jurisdiction and administrative entity of the Pope. The Vatican City came into existence only in 1929.\n",
            "In 2011, minority Christian faiths in Italy included an estimated 1.5 million Orthodox Christians, or 2.5% of the population; 500,000 Pentecostals and Evangelicals (of whom 400,000 are members of the Assemblies of God), 251,192 Jehovah's Witnesses, 30,000 Waldensians, 25,000 Seventh-day Adventists, 26,925 Latter-day Saints, 15,000 Baptists (plus some 5,000 Free Baptists), 7,000 Lutherans, 4,000 Methodists (affiliated with the Waldensian Church).One of the longest-established minority religious faiths in Italy is Judaism, Jews having been present in Ancient Rome since before the birth of Christ. Italy has for centuries welcomed Jews expelled from other countries, notably Spain. However, about 20% of Italian Jews were killed during the Holocaust. This, together with the emigration which preceded and followed World War II, has left only around 28,400 Jews in Italy.Soaring immigration in the last two decades has been accompanied by an increase in non-Christian faiths. Following immigration from the Indian subcontinent, in Italy there are 120,000 Hindus, 70,000 Sikhs and 22 gurdwaras across the country.The Italian state, as a measure to protect religious freedom, devolves shares of income tax to recognised religious communities, under a regime known as Eight per thousand. Donations are allowed to Christian, Jewish, Buddhist and Hindu communities; however, Islam remains excluded, since no Muslim communities have yet signed a concordat with the Italian state. Taxpayers who do not wish to fund a religion contribute their share to the state welfare system.\n",
            "\n",
            "\n",
            "=== Education ===\n",
            "\n",
            "Education in Italy is free and mandatory from ages six to sixteen, and consists of five stages: kindergarten (scuola dell'infanzia), primary school (scuola primaria), lower secondary school (scuola secondaria di primo grado), upper secondary school (scuola secondaria di secondo grado) and university (università).Primary education lasts eight years. Students are given a basic education in Italian, English, mathematics, natural sciences, history, geography, social studies, physical education and visual and musical arts. Secondary education lasts for five years and includes three traditional types of schools focused on different academic levels: the liceo prepares students for university studies with a classical or scientific curriculum, while the istituto tecnico and the Istituto professionale prepare pupils for vocational education.\n",
            "In 2018, the Italian secondary education was evaluated as below the OECD average. Italy scored below the OECD average in reading and science, and near OECD average in mathematics. Mean performance in Italy declined in reading and science, and remained stable in mathematics. Trento and Bolzano scored at an above the national average in reading. Compared to school children in other OECD countries, children in Italy missed out on a greater amount of learning due to absences and indiscipline in classrooms. A wide gap exists between northern schools, which perform near average, and schools in the South, that had much poorer results.Tertiary education in Italy is divided between public universities, private universities and the prestigious and selective superior graduate schools, such as the Scuola Normale Superiore di Pisa. 33 Italian universities were ranked among the world's top 500 in 2019, the third-largest number in Europe after the United Kingdom and Germany. Bologna University, founded in 1088, is the oldest university in continuous operation, as well as one of the leading academic institutions in Italy and Europe. The Bocconi University, Università Cattolica del Sacro Cuore, LUISS, Polytechnic University of Turin, Polytechnic University of Milan, Sapienza University of Rome, and University of Milan are also ranked among the best in the world.\n",
            "\n",
            "\n",
            "=== Health ===\n",
            "\n",
            "Life expectancy in the country is 80 for males and 85 for females, placing the country 5th in the world. In comparison to other Western countries, Italy has a relatively low rate of adult obesity (below 10%), as there are several health benefits of the Mediterranean diet. The proportion of daily smokers was 22% in 2012, down from 24.4% in 2000 but still slightly above the OECD average. Smoking in public places including bars, restaurants, night clubs and offices has been restricted to specially ventilated rooms since 2005. In 2013, UNESCO added the Mediterranean diet to the Representative List of the Intangible Cultural Heritage of Humanity of Italy (promoter), Morocco, Spain, Portugal, Greece, Cyprus and Croatia.The Italian state runs a universal public healthcare system since 1978. However, healthcare is provided to all citizens and residents by a mixed public-private system. The public part is the Servizio Sanitario Nazionale, which is organised under the Ministry of Health and administered on a devolved regional basis. Healthcare spending accounted for 9.7% of GDP in 2020. Italy's healthcare system is consistently ranked among the best in the world. In 2018 Italy's healthcare is ranked 20th in Europe in the Euro Health Consumer Index.\n",
            "\n",
            "\n",
            "== Culture ==\n",
            "\n",
            "Italy is considered one of the birthplaces of western civilization and a cultural superpower. Divided by politics and geography for centuries until its eventual unification in 1861, Italy's culture has been shaped by a multitude of regional customs and local centres of power and patronage. Italy has had a central role in Western culture for centuries and is still recognised for its cultural traditions and artists. During the Middle Ages and the Renaissance, a number of courts competed to attract architects, artists and scholars, thus producing a legacy of monuments, paintings, music and literature. Despite the political and social isolation of these courts, Italy has made a substantial contribution to the cultural and historical heritage of Europe.\n",
            "\n",
            "\n",
            "=== Architecture ===\n",
            "\n",
            "Italy is known for its considerable architectural achievements, such as the construction of arches, domes and similar structures during ancient Rome, the founding of the Renaissance architectural movement in the late-14th to 16th centuries, and being the homeland of Palladianism, a style of construction which inspired movements such as that of Neoclassical architecture, and influenced the designs which noblemen built their country houses all over the world, notably in the UK, Australia and the US during the late 17th to early 20th centuries.\n",
            "Along with pre-historic architecture, the first people in Italy to truly begin a sequence of designs were the Greeks and the Etruscans, progressing to classical Roman, then to the revival of the classical Roman era during the Renaissance and evolving into the Baroque era. The Christian concept of a Basilica, a style of church architecture that came to dominate the early Middle Ages, was invented in Rome. They were known for being long, rectangular buildings, which were built in an almost ancient Roman style, often rich in mosaics and decorations. The early Christians' art and architecture were also widely inspired by that of the pagan Romans; statues, mosaics and paintings decorated all their churches.\n",
            "\n",
            "The Romanesque movement, which went from approximately 800 AD to 1100 AD, was one of the most fruitful and creative periods in Italian architecture, when several masterpieces, such as the Leaning Tower of Pisa in the Piazza dei Miracoli, and the Basilica of Sant'Ambrogio in Milan were built. It was known for its usage of Roman arches, stained glass windows, and also its curved columns which commonly featured in cloisters. The main innovation of Italian Romanesque architecture was the vault, which had never been seen before in the history of Western architecture.A flowering of Italian architecture took place during the Renaissance. Filippo Brunelleschi contributed to architectural design with his dome for the Cathedral of Florence, a feat of engineering that had not been accomplished since antiquity. A popular achievement of Italian Renaissance architecture was St. Peter's Basilica, originally designed by Donato Bramante in the early 16th century. Also, Andrea Palladio influenced architects throughout Western Europe with the villas and palaces he designed in the middle and late 16th century; the city of Vicenza, with its twenty-three buildings designed by Palladio, and twenty-four Palladian Villas of the Veneto are listed by UNESCO as part of a World Heritage Site named City of Vicenza and the Palladian Villas of the Veneto.The Baroque period produced several outstanding Italian architects in the 17th century, especially those known for their churches. The most original work of all late Baroque and Rococo architecture is the Palazzina di caccia di Stupinigi, dating back to the 18th century. Luigi Vanvitelli began in 1752 the construction of the Royal Palace of Caserta. In this large complex, the grandiose Baroque-style interiors and gardens are opposed to a more sober building envelope. In the late 18th and early 19th centuries Italy was affected by the Neoclassical architectural movement. Villas, palaces, gardens, interiors and art began to be based on Roman and Greek themes.During the Fascist period, the so-called \"Novecento movement\" flourished, based on the rediscovery of imperial Rome, with figures such as Gio Ponti and Giovanni Muzio. Marcello Piacentini, responsible for the urban transformations of several cities in Italy and remembered for the disputed Via della Conciliazione in Rome, devised a form of simplified Neoclassicism.\n",
            "\n",
            "\n",
            "=== Visual art ===\n",
            "\n",
            "The history of Italian visual arts is significant to the history of Western painting. Roman art was influenced by Greece and can in part be taken as a descendant of ancient Greek painting. Roman painting does have its own unique characteristics. The only surviving Roman paintings are wall paintings, many from villas in Campania, in Southern Italy. Such paintings can be grouped into four main \"styles\" or periods and may contain the first examples of trompe-l'œil, pseudo-perspective, and pure landscape.\n",
            "The Italian Renaissance is said by many to be the golden age of painting; roughly spanning the 14th through the mid-17th centuries with a significant influence also out of the borders of modern Italy. In Italy artists like Paolo Uccello, Fra Angelico, Masaccio, Piero della Francesca, Andrea Mantegna, Filippo Lippi, Giorgione, Tintoretto, Sandro Botticelli, Leonardo da Vinci, Michelangelo Buonarroti, Raphael, Giovanni Bellini, and Titian took painting to a higher level through the use of perspective, the study of human anatomy and proportion, and through their development of refined drawing and painting techniques. Michelangelo was active as a sculptor from about 1500 to 1520; his works include his David, Pietà, Moses. Other Renaissance sculptors include Lorenzo Ghiberti, Luca Della Robbia, Donatello, Filippo Brunelleschi and Andrea del Verrocchio.\n",
            "In the 15th and 16th centuries, the High Renaissance gave rise to a stylised art known as Mannerism. In place of the balanced compositions and rational approach to perspective that characterised art at the dawn of the 16th century, the Mannerists sought instability, artifice, and doubt. The unperturbed faces and gestures of Piero della Francesca and the calm Virgins of Raphael are replaced by the troubled expressions of Pontormo and the emotional intensity of El Greco.\n",
            "\n",
            "In the 17th century, among the greatest painters of Italian Baroque are Caravaggio, Annibale Carracci, Artemisia Gentileschi, Mattia Preti, Carlo Saraceni and Bartolomeo Manfredi. Subsequently, in the 18th century, Italian Rococo was mainly inspired by French Rococo, since France was the founding nation of that particular style, with artists such as Giovanni Battista Tiepolo and Canaletto. Italian Neoclassical sculpture focused, with Antonio Canova's nudes, on the idealist aspect of the movement.\n",
            "In the 19th century, major Italian Romantic painters were Francesco Hayez, Giuseppe Bezzuoli and Francesco Podesti. Impressionism was brought from France to Italy by the Macchiaioli, led by Giovanni Fattori, and Giovanni Boldini; Realism by Gioacchino Toma and Giuseppe Pellizza da Volpedo. In the 20th century, with Futurism, primarily through the works of Umberto Boccioni and Giacomo Balla, Italy rose again as a seminal country for artistic evolution in painting and sculpture. Futurism was succeeded by the metaphysical paintings of Giorgio de Chirico, who exerted a strong influence on the Surrealists and generations of artists to follow like Bruno Caruso and Renato Guttuso.\n",
            "\n",
            "\n",
            "=== Literature ===\n",
            "\n",
            "Formal Latin literature began in 240 BC, when the first stage play was performed in Rome. Latin literature was, and still is, highly influential in the world, with numerous writers, poets, philosophers, and historians, such as Pliny the Elder, Pliny the Younger, Virgil, Horace, Propertius, Ovid and Livy. The Romans were also famous for their oral tradition, poetry, drama and epigrams. In early years of the 13th century, Francis of Assisi was considered the first Italian poet by literary critics, with his religious song Canticle of the Sun.\n",
            "Another Italian voice originated in Sicily. At the court of Emperor Frederick II, who ruled the Sicilian kingdom during the first half of the 13th century, lyrics modelled on Provençal forms and themes were written in a refined version of the local vernacular. One of these poets was the notary Giacomo da Lentini, inventor of the sonnet form, though the most famous early sonneteer was Petrarch.Guido Guinizelli is considered the founder of the Dolce Stil Novo, a school that added a philosophical dimension to traditional love poetry. This new understanding of love, expressed in a smooth, pure style, influenced Guido Cavalcanti and the Florentine poet Dante Alighieri, who established the basis of the modern Italian language; his greatest work, the Divine Comedy, is considered among the finest works of world literature; furthermore, the poet invented the difficult terza rima. Two major writers of the 14th century, Petrarch and Giovanni Boccaccio, sought out and imitated the works of antiquity and cultivated their own artistic personalities. Petrarch achieved fame through his collection of poems, Il Canzoniere. Petrarch's love poetry served as a model for centuries. Equally influential was Boccaccio's The Decameron, one of the most popular collections of short stories ever written.\n",
            "Italian Renaissance authors produced works including Niccolò Machiavelli's The Prince, an essay on political science and modern philosophy in which the \"effectual truth\" is taken to be more important than any abstract ideal; Ludovico Ariosto's Orlando Furioso, continuation of Matteo Maria Boiardo's unfinished romance Orlando Innamorato; and Baldassare Castiglione's dialogue The Book of the Courtier which describes the ideal of the perfect court gentleman and of spiritual beauty. The lyric poet Torquato Tasso in Jerusalem Delivered wrote a Christian epic in ottava rima, with attention to the Aristotelian canons of unity.\n",
            "Giovanni Francesco Straparola and Giambattista Basile, who have written The Facetious Nights of Straparola (1550–1555) and the Pentamerone (1634) respectively, printed some of the first known versions of fairy tales in Europe. In the early 17th century, some literary masterpieces were created, such as Giambattista Marino's long mythological poem, L'Adone. The Baroque period also produced the clear scientific prose of Galileo as well as Tommaso Campanella's The City of the Sun, a description of a perfect society ruled by a philosopher-priest. At the end of the 17th century, the Arcadians began a movement to restore simplicity and classical restraint to poetry, as in Metastasio's heroic melodramas. In the 18th century, playwright Carlo Goldoni created full-written plays, many portraying the middle class of his day.\n",
            "\n",
            "Romanticism coincided with some ideas of the Risorgimento, the patriotic movement that brought Italy political unity and freedom from foreign domination. Italian writers embraced Romanticism in the early 19th century. The time of Italy's rebirth was heralded by the poets Vittorio Alfieri, Ugo Foscolo, and Giacomo Leopardi. The works by Alessandro Manzoni, the leading Italian Romantic, are a symbol of the Italian unification for their patriotic message and because of his efforts in the development of the modern, unified Italian language; his novel The Betrothed was the first Italian historical novel to glorify Christian values of justice and Providence, and it is generally ranked among the masterpieces of world literature.In the late 19th century, a realistic literary movement called Verismo played a major role in Italian literature; Giovanni Verga and Luigi Capuana were its main exponents. In the same period, Emilio Salgari, writer of action-adventure swashbucklers and a pioneer of science fiction, published his Sandokan series. In 1883, Carlo Collodi also published the novel The Adventures of Pinocchio, the most celebrated children's classic by an Italian author and one of the most translated non-religious books in the world. A movement called Futurism influenced Italian literature in the early 20th century. Filippo Tommaso Marinetti wrote Manifesto of Futurism, called for the use of language and metaphors that glorified the speed, dynamism, and violence of the machine age.Modern literary figures and Nobel laureates are Gabriele D'Annunzio from 1889 to 1910, nationalist poet Giosuè Carducci in 1906, realist writer Grazia Deledda in 1926, modern theatre author Luigi Pirandello in 1936, short stories writer Italo Calvino in 1960, poets Salvatore Quasimodo in 1959 and Eugenio Montale in 1975, Umberto Eco in 1980, and satirist and theatre author Dario Fo in 1997.\n",
            "\n",
            "\n",
            "=== Philosophy ===\n",
            "\n",
            "Over the ages, Italian philosophy and literature had a vast influence on Western philosophy, beginning with the Greeks and Romans, and going onto Renaissance humanism, the Age of Enlightenment and modern philosophy. Philosophy was brought to Italy by Pythagoras, founder of the Italian school of philosophy in Crotone, Magna Graecia. Major Italian philosophers of the Greek period include Xenophanes, Parmenides, Zeno, Empedocles and Gorgias. Roman philosophers include Cicero, Lucretius, Seneca the Younger, Musonius Rufus, Plutarch, Epictetus, Marcus Aurelius, Clement of Alexandria, Sextus Empiricus, Alexander of Aphrodisias, Plotinus, Porphyry, Iamblichus, Augustine of Hippo, Philoponus of Alexandria and Boethius.\n",
            "Italian Medieval philosophy was mainly Christian, and included philosophers and theologians such as Thomas Aquinas, the foremost classical proponent of natural theology and the father of Thomism, who reintroduced Aristotelian philosophy to Christianity. Notable Renaissance philosophers include: Giordano Bruno, one of the major scientific figures of the western world; Marsilio Ficino, one of the most influential humanist philosophers of the period; and Niccolò Machiavelli, one of the main founders of modern political science. Machiavelli's most famous work was The Prince, whose contribution to the history of political thought is the fundamental break between political realism and political idealism. Italy was also affected by the Enlightenment, a movement which was a consequence of the Renaissance. University cities such as Padua, Bologna and Naples remained centres of scholarship and the intellect, with several philosophers such as Giambattista Vico (widely regarded as being the founder of modern Italian philosophy) and Antonio Genovesi. Cesare Beccaria was a significant Enlightenment figure and is now considered one of the fathers of classical criminal theory as well as modern penology. Beccaria is famous for his On Crimes and Punishments (1764), a treatise that served as one of the earliest prominent condemnations of torture and the death penalty and thus a landmark work in anti-death penalty philosophy.Italy also had a renowned philosophical movement in the 1800s, with Idealism, Sensism and Empiricism. The main Sensist Italian philosophers were Melchiorre Gioja and Gian Domenico Romagnosi. Criticism of the Sensist movement came from other philosophers such as Pasquale Galluppi (1770–1846), who affirmed that a priori relationships were synthetic. Antonio Rosmini, instead, was the founder of Italian idealism. During the late 19th and 20th centuries, there were also several other movements which gained some form of popularity in Italy, such as Ontologism (whose main philosopher was Vincenzo Gioberti), anarchism, communism, socialism, futurism, fascism and Christian democracy. Giovanni Gentile and Benedetto Croce were two of the most significant 20th-century Idealist philosophers. Anarcho-communism first fully formed into its modern strain within the Italian section of the First International. Antonio Gramsci remains a relevant philosopher within Marxist and communist theory, credited with creating the theory of cultural hegemony. Italian philosophers were also influential in the development of the non-Marxist liberal socialism philosophy, including Carlo Rosselli, Norberto Bobbio, Piero Gobetti and Aldo Capitini. In the 1960s, many Italian left-wing activists adopted the anti-authoritarian pro-working class leftist theories that would become known as autonomism and operaismo.Early Italian feminists include Sibilla Aleramo, Alaide Gualberta Beccari, and Anna Maria Mozzoni, though proto-feminist philosophies had previously been touched upon by earlier Italian writers such as Christine de Pizan, Moderata Fonte, and Lucrezia Marinella. Italian physician and educator Maria Montessori is credited with the creation of the philosophy of education that bears her name, an educational philosophy now practised throughout the world. Giuseppe Peano was one of the founders of analytic philosophy and the contemporary philosophy of mathematics. Recent analytic philosophers include Carlo Penco, Gloria Origgi, Pieranna Garavaso and Luciano Floridi.\n",
            "\n",
            "\n",
            "=== Theatre ===\n",
            "\n",
            "Italian theatre originates from the Middle Ages, with its background dating back to the times of the ancient Greek colonies of Magna Graecia, in Southern Italy, the theatre of the Italic peoples and the theatre of ancient Rome. It can therefore be assumed that there were two main lines of which the ancient Italian theatre developed in the Middle Ages. The first, consisting of the dramatization of Catholic liturgies and of which more documentation is retained, and the second, formed by pagan forms of spectacle such as the staging for city festivals, the court preparations of the jesters and the songs of the troubadours. The Renaissance theatre marked the beginning of the modern theatre due to the rediscovery and study of the classics, the ancient theatrical texts were recovered and translated, which were soon staged at the court and in the curtensi halls, and then moved to real theatre. In this way the idea of theatre came close to that of today: a performance in a designated place in which the public participates. In the late 15th century two cities were important centres for the rediscovery and renewal of theatrical art: Ferrara and Rome. The first, vital centre of art in the second half of the fifteenth century, saw the staging of some of the most famous Latin works by Plautus, rigorously translated into Italian.\n",
            "During the 16th century and on into the 18th century, Commedia dell'arte was a form of improvisational theatre, and it is still performed today. Travelling troupes of players would set up an outdoor stage and provide amusement in the form of juggling, acrobatics and, more typically, humorous plays based on a repertoire of established characters with a rough storyline, called canovaccio. Plays did not originate from written drama but from scenarios called lazzi, which were loose frameworks that provided the situations, complications, and outcome of the action, around which the actors would improvise. The characters of the commedia usually represent fixed social types and stock characters, each of which has a distinct costume, such as foolish old men, devious servants, or military officers full of false bravado. The main categories of these characters include servants, old men, lovers, and captains.The first recorded Commedia dell'arte performances came from Rome as early as 1551, and was performed outdoors in temporary venues by professional actors who were costumed and masked, as opposed to commedia erudita, which were written comedies, presented indoors by untrained and unmasked actors. By the mid-16th century, specific troupes of commedia performers began to coalesce, and by 1568 the Gelosi became a distinct company. Commedia often performed inside in court theatres or halls, and also in some fixed theatres such as Teatro Baldrucca in Florence. Flaminio Scala, who had been a minor performer in the Gelosi published the scenarios of the Commedia dell'arte around the start of the 17th century, really in an effort to legitimise the form—and ensure its legacy. These scenari are highly structured and built around the symmetry of the various types in duet: two zanni, vecchi, inamorate and inamorati, among others.\n",
            "In Commedia dell'arte, female roles were played by women, documented as early as the 1560s, making them the first known professional actresses in Europe since antiquity. Lucrezia Di Siena, whose name is on a contract of actors from 10 October 1564, has been referred to as the first Italian actress known by name, with Vincenza Armani and Barbara Flaminia as the first primadonnas and the first well-documented actresses in Europe.The Ballet dance genre also originated in Italy. It began during the Italian Renaissance court as an outgrowth of court pageantry, where aristocratic weddings were lavish celebrations. Court musicians and dancers collaborated to provide elaborate entertainment for them. At first, ballets were woven into the midst of an opera to allow the audience a moment of relief from the dramatic intensity. By the mid-seventeenth century, Italian ballets in their entirety were performed in between the acts of an opera. Over time, Italian ballets became part of theatrical life: ballet companies in Italy's major opera houses employed an average of four to twelve dancers; in 1815 many companies employed anywhere from eighty to one hundred dancers.The Teatro di San Carlo in Naples is the oldest continuously active venue for public opera in the world, opening in 1737, decades before both Milan's La Scala and Venice's La Fenice theatres.\n",
            "\n",
            "\n",
            "=== Music ===\n",
            "\n",
            "From folk music to classical, music is an intrinsic part of Italian culture. Instruments associated with classical music, including the piano and violin, were invented in Italy, and many of the prevailing classical music forms, such as the symphony, concerto, and sonata, can trace their roots back to innovations of 16th- and 17th-century Italian music.\n",
            "Italy's most famous composers include the Renaissance composers Palestrina, Monteverdi and Gesualdo, the Baroque composers Scarlatti, Corelli and Vivaldi, the Classical composers Paisiello, Paganini and Rossini, and the Romantic composers Verdi and Puccini. Modern Italian composers such as Berio and Nono proved significant in the development of experimental and electronic music. While the classical music tradition still holds strong in Italy, as evidenced by the fame of its innumerable opera houses, such as La Scala of Milan and San Carlo of Naples (the oldest continuously active venue for public opera in the world), and performers such as the pianist Maurizio Pollini and tenor Luciano Pavarotti, Italians have been no less appreciative of their thriving contemporary music scene.\n",
            "\n",
            "Italy is widely known for being the birthplace of opera. Italian opera was believed to have been founded in the early 17th century, in cities such as Mantua and Venice. Later, works and pieces composed by native Italian composers of the 19th and early 20th centuries, such as Rossini, Bellini, Donizetti, Verdi and Puccini, are among the most famous operas ever written and today are performed in opera houses across the world. La Scala opera house in Milan is also renowned as one of the best in the world. Famous Italian opera singers include Enrico Caruso and Alessandro Bonci.\n",
            "Introduced in the early 1920s, jazz took a particularly strong foothold in Italy, and remained popular despite the xenophobic cultural policies of the Fascist regime. Today, the most notable centres of jazz music in Italy include Milan, Rome, and Sicily. Later, Italy was at the forefront of the progressive rock and pop movement of the 1970s, with bands like PFM, Banco del Mutuo Soccorso, Le Orme, Goblin, and Pooh. The same period saw diversification in the cinema of Italy, and Cinecittà films included complex scores by composers including Ennio Morricone, Armando Trovaioli, Piero Piccioni and Piero Umiliani. In the early 1980s, the first star to emerge from the Italian hip hop scene was singer Jovanotti. Italian metal bands include Rhapsody of Fire, Lacuna Coil, Elvenking, Forgotten Tomb, and Fleshgod Apocalypse.\n",
            "\n",
            "Italy contributed to the development of disco and electronic music, with Italo disco, known for its futuristic sound and prominent use of synthesisers and drum machines, being one of the earliest electronic dance genres, as well as European forms of disco aside from Euro disco (which later went on to influence several genres such as Eurodance and Nu-disco).Producers such as Giorgio Moroder, who won three Academy Awards and four Golden Globes for his music, were highly influential in the development of electronic dance music. Today, Italian pop music is represented annually with the Sanremo Music Festival, which served as inspiration for the Eurovision song contest, and the Festival of Two Worlds in Spoleto. Singers such as Mina, Andrea Bocelli, Grammy winner Laura Pausini, Zucchero, Eros Ramazzotti, Elisa, Tiziano Ferro and Mahmood have attained international acclaim.\n",
            "Gigliola Cinquetti, Toto Cutugno, and Måneskin won the Eurovision Song Contest, in 1964, 1990, and 2021 respectively.\n",
            "\n",
            "\n",
            "=== Cinema ===\n",
            "\n",
            "The history of Italian cinema began a few months after the Lumière brothers began motion picture exhibitions. The first Italian director is considered to be Vittorio Calcina, a collaborator of the Lumière Brothers, who filmed Pope Leo XIII in 1896. In the 1910s the Italian film industry developed rapidly. In 1912, the year of the greatest expansion, 569 films were produced in Turin, 420 in Rome and 120 in Milan. Cabiria, a 1914 Italian epic film directed by Giovanni Pastrone, is considered the most famous Italian silent film. It was also the first film in history to be shown in the White House. The oldest European avant-garde cinema movement, Italian futurism, took place in the late 1910s.After a period of decline in the 1920s, the Italian film industry was revitalized in the 1930s with the arrival of sound film. A popular Italian genre during this period, the Telefoni Bianchi, consisted of comedies with glamorous backgrounds. Calligrafismo was instead in a sharp contrast to Telefoni Bianchi-American style comedies and is rather artistic, highly formalistic, expressive in complexity and deals mainly with contemporary literary material. Cinema was later used by Benito Mussolini, who founded Rome's renowned Cinecittà studio also for the production of Fascist propaganda until World War II.After the war, Italian film was widely recognised and exported until an artistic decline around the 1980s. Notable Italian film directors from this period include Vittorio De Sica, Federico Fellini, Sergio Leone, Pier Paolo Pasolini, Luchino Visconti, Michelangelo Antonioni, Dussio Tessari and Roberto Rossellini; some of these are recognised among the greatest and most influential filmmakers of all time. Movies include world cinema treasures such as Bicycle Thieves, La dolce vita, 8½, The Good, the Bad and the Ugly, and Once Upon a Time in the West. The mid-1940s to the early 1950s was the heyday of neorealist films, reflecting the poor condition of post-war Italy.As the country grew wealthier in the 1950s, a form of neorealism known as pink neorealism succeeded, and starting from the 1950s through the Commedia all'italiana genre, and other film genres, such as sword-and-sandal followed as Spaghetti Westerns, were popular in the 1960s and 1970s. Actresses such as Sophia Loren, Giulietta Masina and Gina Lollobrigida achieved international stardom during this period. Erotic Italian thrillers, or giallos, produced by directors such as Mario Bava and Dario Argento in the 1970s, also influenced the horror genre worldwide. In recent years, the Italian scene has received only occasional international attention, with movies like Cinema Paradiso written and directed by Giuseppe Tornatore, Mediterraneo directed by Gabriele Salvatores, Life Is Beautiful directed by Roberto Benigni, Il Postino: The Postman with Massimo Troisi and The Great Beauty directed by Paolo Sorrentino.The aforementioned Cinecittà studio is today the largest film and television production facility in Europe, where many international box office hits were filmed. In the 1950s, the number of international productions being made there led to Rome's being dubbed \"Hollywood on the Tiber\". More than 3,000 productions have been made on its lot, of which 90 received an Academy Award nomination and 47 of these won it, from some cinema classics to recent rewarded features (such as Roman Holiday, Ben-Hur, Cleopatra, Romeo and Juliet, The English Patient, The Passion of the Christ, and Gangs of New York).Italy is the most awarded country at the Academy Awards for Best Foreign Language Film, with 14 awards won, 3 Special Awards and 28 nominations. As of 2016, Italian films have also won 12 Palmes d'Or, 11 Golden Lions and 7 Golden Bears. The list of the 100 Italian films to be saved was created with the aim to report \"100 films that have changed the collective memory of the country between 1942 and 1978\".\n",
            "\n",
            "\n",
            "=== Sport ===\n",
            "\n",
            "The most popular sport in Italy is football. Italy's national football team is one of the world's most successful teams with four FIFA World Cup victories (1934, 1938, 1982 and 2006). Italian clubs have won 48 major European trophies, making Italy the second most successful country in European football. Italy's top-flight club football league is named Serie A and is followed by millions of fans around the world.Other popular team sports in Italy include basketball, volleyball and rugby. Italy's male and female national volleyball teams are often featured among the world's best. The Italian national basketball team's best results were gold at Eurobasket 1983 and EuroBasket 1999, as well as silver at the Olympics in 2004. Lega Basket Serie A is widely considered one of the most competitive in Europe. Italy's rugby national team competes in the Six Nations Championship, and is a regular at the Rugby World Cup. The men's volleyball team won three consecutive World Championships (in 1990, 1994, and 1998) and earned the Olympic silver medal in 1996, 2004, and 2016.\n",
            "\n",
            "Italy has a long and successful tradition in individual sports as well. Bicycle racing is a familiar sport in the country. Italians have won the UCI World Championships more than any other country, except Belgium. The Giro d'Italia is a cycling race held every May and constitutes one of the three Grand Tours. Alpine skiing is also a widespread sport in Italy, and the country is a popular international skiing destination, known for its ski resorts. Italian skiers achieved good results in Winter Olympic Games, Alpine Ski World Cup, and tennis has a significant following in Italy, ranking as the fourth most practised sport in the country. The Rome Masters, founded in 1930, is one of the most prestigious tennis tournaments in the world. Italian professional tennis players won the Davis Cup in 1976 and the Fed Cup in 2006, 2009, 2010 and 2013.\n",
            "\n",
            "Motorsports are also extremely popular in Italy. Italy has won, by far, the most MotoGP World Championships. Italian Scuderia Ferrari is the oldest surviving team in Grand Prix racing, having competed since 1948, and statistically the most successful Formula One team in history with a record of 232 wins. The Italian Grand Prix of Formula 1 is the fifth oldest surviving Grand Prix, having been held since 1921. It is also one of the two Grand Prix present in every championship since the first one in 1950. Every Formula 1 Grand Prix (except for the 1980) has been held at Autodromo Nazionale Monza. Formula 1 was also held at Imola (1980–2006, 2020) and Mugello (2020). Other successful Italian car manufacturers in motorsports are Alfa Romeo, Lancia, Maserati and Fiat.Historically, Italy has been successful in the Olympic Games, taking part from the first Olympiad and in 47 Games out of 48, not having officially participated in the 1904 Summer Olympics. Italian sportsmen have won 522 medals at the Summer Olympic Games, and another 106 at the Winter Olympic Games, for a combined total of 628 medals with 235 golds, which makes them the fifth most successful nation in Olympic history for total medals. The country hosted two Winter Olympics and will host a third (in 1956, 2006, and 2026), and one Summer games (in 1960).\n",
            "\n",
            "\n",
            "=== Fashion and design ===\n",
            "\n",
            "Italian fashion has a long tradition. Milan, Florence and Rome are Italy's main fashion capitals. According to Top Global Fashion Capital Rankings 2013 by Global Language Monitor, Rome ranked sixth worldwide while Milan was twelfth. Previously, in 2009, Milan was declared the \"fashion capital of the world\" by Global Language Monitor itself. Major Italian fashion labels, such as Gucci, Armani, Prada, Versace, Valentino, Dolce & Gabbana, Missoni, Fendi, Moschino, Max Mara, Trussardi, and Ferragamo, to name a few, are regarded as among the finest fashion houses in the world. Jewellers like Bvlgari, Damiani and Buccellati have been founded in Italy. Also, the fashion magazine Vogue Italia, is considered one of the most prestigious fashion magazines in the world. The talent of young, creative fashion is also promoted, as in the ITS young fashion designer competition in Trieste.Italy is also prominent in the field of design, notably interior design, architectural design, industrial design and urban design. The country has produced some well-known furniture designers, such as Gio Ponti and Ettore Sottsass, and Italian phrases such as \"Bel Disegno\" and \"Linea Italiana\" have entered the vocabulary of furniture design. Examples of classic pieces of Italian white goods and pieces of furniture include Zanussi's washing machines and fridges, the \"New Tone\" sofas by Atrium, and the post-modern bookcase by Ettore Sottsass, inspired by Bob Dylan's song \"Stuck Inside of Mobile with the Memphis Blues Again\". Today, Milan and Turin are the nation's leaders in architectural design and industrial design. The city of Milan hosts Fiera Milano, Europe's largest design fair. Milan also hosts major design and architecture-related events and venues, such as the \"Fuori Salone\" and the Salone del Mobile, and has been home to the designers Bruno Munari, Lucio Fontana, Enrico Castellani and Piero Manzoni.\n",
            "\n",
            "\n",
            "=== Cuisine ===\n",
            "\n",
            "The Italian cuisine has developed through centuries of social and political changes, with roots as far back as the 4th century BC. Italian cuisine in itself takes heavy influences, including Etruscan, ancient Greek, ancient Roman, Byzantine, and Jewish. Significant changes occurred with the discovery of the New World with the introduction of items such as potatoes, tomatoes, bell peppers and maize, now central to the cuisine but not introduced in quantity until the 18th century. Italian cuisine is noted for its regional diversity, abundance of difference in taste, and is known to be one of the most popular in the world, wielding strong influence abroad.The Mediterranean diet forms the basis of Italian cuisine, rich in pasta, fish, fruits and vegetables and characterised by its extreme simplicity and variety, with many dishes having only four to eight ingredients. Italian cooks rely chiefly on the quality of the ingredients rather than on elaborate preparation. Dishes and recipes are often derivatives from local and familial tradition rather than created by chefs, so many recipes are ideally suited for home cooking, this being one of the main reasons behind the ever-increasing worldwide popularity of Italian cuisine, from America to Asia. Ingredients and dishes vary widely by region.\n",
            "Italian cuisine relies heavily on traditional products; the country has a large number of traditional specialities protected under EU law. Cheese, cold cuts and wine are central to Italian cuisine, with many regional declinations and Protected Designation of Origin or Protected Geographical Indication labels, and along with pizza and coffee (especially espresso) form part of Italian gastronomic culture. Desserts have a long tradition of merging local flavours such as citrus fruits, pistachio and almonds with sweet cheeses like mascarpone and ricotta or exotic tastes as cocoa, vanilla and cinnamon. Gelato, tiramisù and cassata are among the most famous examples of Italian desserts, cakes and patisserie.\n",
            "Italian meal structure is typical of the European Mediterranean region and differs from North, Central, and Eastern European meal structure, though it still often consists of breakfast (colazione), lunch (pranzo), and dinner (cena). However, much less emphasis is placed on breakfast, and breakfast itself is often skipped or involves lighter meal portions than are seen in non-Mediterranean Western countries. Late-morning and mid-afternoon snacks, called merenda (plural merende), are also often included in this meal structure.The marketing phenomenon consisting of words and images, colour combinations (the Italian tricolour) and geographical references for brands that are evocative of Italy to promote and market agri-food products that have nothing to do with Italian cuisine is known by the name of Italian Sounding.\n",
            "\n",
            "\n",
            "=== Public holidays, festivals and folklore ===\n",
            "\n",
            "Public holidays celebrated in Italy include religious, national and regional observances. Italy's National Day, the Festa della Repubblica (Republic Day), is celebrated on 2 June each year, with the main celebration taking place in Rome, and commemorates the birth of the Italian Republic in 1946. The ceremony of the event organized in Rome includes the deposition of a laurel wreath as a tribute to the Italian Unknown Soldier at the Altare della Patria by the President of the Italian Republic and a military parade along Via dei Fori Imperiali in Rome.\n",
            "The Saint Lucy's Day, which takes place on 13 December, is popular among children in some Italian regions, where she plays a role similar to Santa Claus. In addition, the Epiphany in Italy is associated with the folkloristic figure of the Befana, a broomstick-riding old woman who, in the night between 5 and 6 January, bringing good children gifts and sweets, and bad ones charcoal or bags of ashes. The Assumption of Mary coincides with Ferragosto on 15 August, the summer vacation period which may be a long weekend or most of the month.\n",
            "The Italian national patronal day, on 4 October, celebrates Saints Francis and Catherine. Each city or town also celebrates a public holiday on the occasion of the festival of the local patron saint, for example: Rome on 29 June (Saints Peter and Paul), Milan on 7 December (Saint Ambrose), Naples on 19 September (Saint Januarius), Venice on 25 April (Saint Mark the Evangelist) and Florence on 24 June (Saint John the Baptist).\n",
            "There are many festivals and festivities in Italy. Some of them include the Palio di Siena horse race, Holy Week rites, Saracen Joust of Arezzo, Saint Ubaldo Day in Gubbio, Giostra della Quintana in Foligno, and the Calcio Fiorentino. In 2013, UNESCO has included among the intangible cultural heritage some Italian festivals and pasos (in Italian \"macchine a spalla\"), such as the Varia di Palmi, the Macchina di Santa Rosa in Viterbo, the Festa dei Gigli in Nola, and faradda di li candareri in Sassari.Other festivals include the carnivals in Venice, Viareggio, Satriano di Lucania, Mamoiada, and Ivrea, mostly known for its Battle of the Oranges. The Venice International Film Festival, awarding the \"Golden Lion\" and held annually since 1932, is the oldest film festival in the world and one of the \"Big Three\" alongside Cannes and Berlin.\n",
            "\n",
            "\n",
            "== See also ==\n",
            "Outline of Italy\n",
            "\n",
            "\n",
            "== Notes ==\n",
            "\n",
            "\n",
            "== References ==\n",
            "\n",
            "\n",
            "== Bibliography ==\n",
            "\n",
            "\n",
            "== External links ==\n",
            "\n",
            "GovernmentGovernment website (in Italian)\n",
            "Official site of the Italian Parliament (in Italian)\n",
            "Official site of the President of the Italian Republic\n",
            "Italian Higher Education for International Students\n",
            "Italian National and Regional parks\n",
            "Italian tourism official websiteEconomySite of the Ministry of Economy and FinanceGeneral informationItaly from BBC News\n",
            "Italy. The World Factbook. Central Intelligence Agency.\n",
            "Italy from UCB Libraries GovPubs\n",
            "Italy at Curlie\n",
            "Italy. Encyclopædia Britannica.\n",
            "Italy from the OECD\n",
            "Italy at the EU\n",
            " Wikimedia Atlas of Italy\n",
            " Geographic data related to Italy at OpenStreetMap\n",
            "Key Development Forecasts for Italy from International Futures\n"
          ]
        }
      ]
    },
    {
      "cell_type": "code",
      "source": [
        "# 1. Initialization: download necessary resources and load models\n",
        "nltk.download('punkt')\n",
        "nltk.download('stopwords')\n",
        "stop_words = set(stopwords.words('english'))\n",
        "\n",
        "# For NER, we'll use spacy. Ensure you've downloaded the English model 'en_core_web_sm'\n",
        "nlp = spacy.load('en_core_web_sm')\n",
        "\n",
        "def preprocess_text(text):\n",
        "    # 2. Lowercasing\n",
        "    text = text.lower()\n",
        "\n",
        "    # 3. Tokenize sentences and words\n",
        "    sentences = sent_tokenize(text)\n",
        "    tokens = [word_tokenize(sentence) for sentence in sentences]\n",
        "\n",
        "    # 4. Remove stop words and punctuations\n",
        "    tokens = [[word for word in sentence if word not in stop_words and word not in string.punctuation]\n",
        "              for sentence in tokens]\n",
        "\n",
        "    return tokens\n",
        "\n",
        "def create_bag_of_words(tokens):\n",
        "    # 5. Create a Bag of Words using Gensim\n",
        "    dictionary = corpora.Dictionary(tokens)\n",
        "    corpus = [dictionary.doc2bow(text) for text in tokens]\n",
        "    return dictionary, corpus\n",
        "\n",
        "def compute_tfidf(corpus):\n",
        "    # 6. Compute TF-IDF\n",
        "    tfidf = TfidfModel(corpus)\n",
        "    corpus_tfidf = tfidf[corpus]\n",
        "    return corpus_tfidf\n",
        "\n",
        "def top_n_words_from_tfidf(corpus_tfidf, dictionary, n=10):\n",
        "    # Flatten the corpus_tfidf and sort by the tf-idf value\n",
        "    sorted_tfidf = sorted([(dictionary[id], value) for doc in corpus_tfidf for id, value in doc],\n",
        "                          key=lambda x: x[1], reverse=True)\n",
        "\n",
        "    # Pick top n words\n",
        "    top_words = [word for word, value in sorted_tfidf[:n]]\n",
        "    return top_words\n",
        "\n",
        "def perform_ner(text):\n",
        "    # 7. Named Entity Recognition (NER)\n",
        "    doc = nlp(text)\n",
        "    named_entities = [(ent.text, ent.label_) for ent in doc.ents]\n",
        "    return named_entities"
      ],
      "metadata": {
        "colab": {
          "base_uri": "https://localhost:8080/"
        },
        "id": "iNPl8Dt9NfSi",
        "outputId": "72e27943-2a7e-47b0-bd94-11dad8a30dc9"
      },
      "execution_count": null,
      "outputs": [
        {
          "output_type": "stream",
          "name": "stderr",
          "text": [
            "/usr/local/lib/python3.10/dist-packages/ipykernel/ipkernel.py:283: DeprecationWarning: `should_run_async` will not call `transform_cell` automatically in the future. Please pass the result to `transformed_cell` argument and any exception that happen during thetransform in `preprocessing_exc_tuple` in IPython 7.17 and above.\n",
            "  and should_run_async(code)\n",
            "[nltk_data] Downloading package punkt to /root/nltk_data...\n",
            "[nltk_data]   Unzipping tokenizers/punkt.zip.\n",
            "[nltk_data] Downloading package stopwords to /root/nltk_data...\n",
            "[nltk_data]   Unzipping corpora/stopwords.zip.\n"
          ]
        }
      ]
    },
    {
      "cell_type": "code",
      "source": [
        "# Example usage:\n",
        "tokens = preprocess_text(content)\n",
        "dictionary, corpus = create_bag_of_words(tokens)\n",
        "corpus_tfidf = compute_tfidf(corpus)\n",
        "entities = perform_ner(content)\n",
        "top_words = top_n_words_from_tfidf(corpus_tfidf, dictionary, 10)"
      ],
      "metadata": {
        "colab": {
          "base_uri": "https://localhost:8080/"
        },
        "id": "Od2H9ZcIRXlq",
        "outputId": "6b83b624-9672-4f9e-9ba1-872a8fd63770"
      },
      "execution_count": null,
      "outputs": [
        {
          "output_type": "stream",
          "name": "stderr",
          "text": [
            "/usr/local/lib/python3.10/dist-packages/ipykernel/ipkernel.py:283: DeprecationWarning: `should_run_async` will not call `transform_cell` automatically in the future. Please pass the result to `transformed_cell` argument and any exception that happen during thetransform in `preprocessing_exc_tuple` in IPython 7.17 and above.\n",
            "  and should_run_async(code)\n"
          ]
        }
      ]
    },
    {
      "cell_type": "code",
      "source": [
        "#print(\"Tokens:\", tokens)\n",
        "#print(\"Bag of Words:\", corpus)\n",
        "#print(\"Named Entities:\", entities)"
      ],
      "metadata": {
        "colab": {
          "base_uri": "https://localhost:8080/"
        },
        "id": "MD2cMJTOO_yK",
        "outputId": "becf2a2e-d84f-48ff-91e9-f0f365184314"
      },
      "execution_count": null,
      "outputs": [
        {
          "output_type": "stream",
          "name": "stderr",
          "text": [
            "/usr/local/lib/python3.10/dist-packages/ipykernel/ipkernel.py:283: DeprecationWarning: `should_run_async` will not call `transform_cell` automatically in the future. Please pass the result to `transformed_cell` argument and any exception that happen during thetransform in `preprocessing_exc_tuple` in IPython 7.17 and above.\n",
            "  and should_run_async(code)\n"
          ]
        }
      ]
    },
    {
      "cell_type": "code",
      "source": [
        "# Assuming 'tokens' is the list of tokenized documents, as defined in the previous code.\n",
        "# tokens = preprocess_text(your_text)\n",
        "\n",
        "# Create a dictionary and corpus for LDA\n",
        "dictionary = corpora.Dictionary(tokens)\n",
        "corpus = [dictionary.doc2bow(text) for text in tokens]\n",
        "\n",
        "# Train the LDA model\n",
        "num_topics = 1  # You can adjust this based on your needs\n",
        "lda_model = LdaModel(corpus, num_topics=num_topics, id2word=dictionary, passes=15)"
      ],
      "metadata": {
        "colab": {
          "base_uri": "https://localhost:8080/"
        },
        "id": "O7YQCeYLRZ3D",
        "outputId": "5b36b212-82c3-4461-bef6-7282f3571c29"
      },
      "execution_count": null,
      "outputs": [
        {
          "output_type": "stream",
          "name": "stderr",
          "text": [
            "/usr/local/lib/python3.10/dist-packages/ipykernel/ipkernel.py:283: DeprecationWarning: `should_run_async` will not call `transform_cell` automatically in the future. Please pass the result to `transformed_cell` argument and any exception that happen during thetransform in `preprocessing_exc_tuple` in IPython 7.17 and above.\n",
            "  and should_run_async(code)\n"
          ]
        }
      ]
    },
    {
      "cell_type": "code",
      "source": [
        "def extract_topic_from_text(text, num_topics=5, topn=3):\n",
        "    tokens = preprocess_text(text)\n",
        "\n",
        "    dictionary = corpora.Dictionary(tokens)\n",
        "    corpus = [dictionary.doc2bow(t) for t in tokens]\n",
        "\n",
        "    lda_model = LdaModel(corpus, num_topics=num_topics, id2word=dictionary, passes=15)\n",
        "\n",
        "    # Get the dominant topic for the given text\n",
        "    dominant_topic = sorted(lda_model[corpus[0]], key=lambda x: x[1], reverse=True)[0]\n",
        "    topic_id = dominant_topic[0]\n",
        "\n",
        "    # Get top `topn` words from this topic\n",
        "    topic_words = lda_model.show_topic(topic_id, topn=topn)\n",
        "    dominant_words = [word for word, _ in topic_words]\n",
        "\n",
        "    # Return the most dominant word or phrase\n",
        "    return ' '.join(dominant_words)\n",
        "\n",
        "# Example usage:\n",
        "topic = extract_topic_from_text(content)"
      ],
      "metadata": {
        "colab": {
          "base_uri": "https://localhost:8080/"
        },
        "id": "DQnz6hJaWq-X",
        "outputId": "eaf3e33c-efb1-4f81-ff1d-1cb1e0674b61"
      },
      "execution_count": null,
      "outputs": [
        {
          "output_type": "stream",
          "name": "stderr",
          "text": [
            "/usr/local/lib/python3.10/dist-packages/ipykernel/ipkernel.py:283: DeprecationWarning: `should_run_async` will not call `transform_cell` automatically in the future. Please pass the result to `transformed_cell` argument and any exception that happen during thetransform in `preprocessing_exc_tuple` in IPython 7.17 and above.\n",
            "  and should_run_async(code)\n"
          ]
        }
      ]
    },
    {
      "cell_type": "code",
      "source": [
        "top_words"
      ],
      "metadata": {
        "colab": {
          "base_uri": "https://localhost:8080/"
        },
        "id": "eKIVdqvOXvLE",
        "outputId": "28898572-535a-4238-d229-7ddee6822333"
      },
      "execution_count": null,
      "outputs": [
        {
          "output_type": "stream",
          "name": "stderr",
          "text": [
            "/usr/local/lib/python3.10/dist-packages/ipykernel/ipkernel.py:283: DeprecationWarning: `should_run_async` will not call `transform_cell` automatically in the future. Please pass the result to `transformed_cell` argument and any exception that happen during thetransform in `preprocessing_exc_tuple` in IPython 7.17 and above.\n",
            "  and should_run_async(code)\n"
          ]
        },
        {
          "output_type": "execute_result",
          "data": {
            "text/plain": [
              "['factbook',\n",
              " 'navy',\n",
              " '==',\n",
              " 'sport',\n",
              " 'species',\n",
              " 'gardens',\n",
              " 'composers',\n",
              " 'festivities',\n",
              " 'agency',\n",
              " 'britannica']"
            ]
          },
          "metadata": {},
          "execution_count": 10
        }
      ]
    },
    {
      "cell_type": "code",
      "source": [
        "topic"
      ],
      "metadata": {
        "colab": {
          "base_uri": "https://localhost:8080/",
          "height": 90
        },
        "id": "xjUC5pUxYAew",
        "outputId": "bec18a7c-6c7b-426a-ce13-3aafd596f140"
      },
      "execution_count": null,
      "outputs": [
        {
          "output_type": "stream",
          "name": "stderr",
          "text": [
            "/usr/local/lib/python3.10/dist-packages/ipykernel/ipkernel.py:283: DeprecationWarning: `should_run_async` will not call `transform_cell` automatically in the future. Please pass the result to `transformed_cell` argument and any exception that happen during thetransform in `preprocessing_exc_tuple` in IPython 7.17 and above.\n",
            "  and should_run_async(code)\n"
          ]
        },
        {
          "output_type": "execute_result",
          "data": {
            "text/plain": [
              "'italian italy world'"
            ],
            "application/vnd.google.colaboratory.intrinsic+json": {
              "type": "string"
            }
          },
          "metadata": {},
          "execution_count": 11
        }
      ]
    },
    {
      "cell_type": "code",
      "source": [
        "nltk.download('vader_lexicon')\n",
        "\n",
        "def analyze_sentiment_vader(text):\n",
        "    sia = SentimentIntensityAnalyzer()\n",
        "    sentiment_scores = sia.polarity_scores(text)\n",
        "\n",
        "    return sentiment_scores\n",
        "\n",
        "# Example usage:\n",
        "text = content\n",
        "\n",
        "sentiment = analyze_sentiment_vader(text)"
      ],
      "metadata": {
        "colab": {
          "base_uri": "https://localhost:8080/"
        },
        "id": "YW5oqoOXZtcI",
        "outputId": "6143558e-5fa7-4f2e-d52e-cbbd718db7e5"
      },
      "execution_count": null,
      "outputs": [
        {
          "output_type": "stream",
          "name": "stderr",
          "text": [
            "/usr/local/lib/python3.10/dist-packages/ipykernel/ipkernel.py:283: DeprecationWarning: `should_run_async` will not call `transform_cell` automatically in the future. Please pass the result to `transformed_cell` argument and any exception that happen during thetransform in `preprocessing_exc_tuple` in IPython 7.17 and above.\n",
            "  and should_run_async(code)\n",
            "[nltk_data] Downloading package vader_lexicon to /root/nltk_data...\n",
            "[nltk_data]   Package vader_lexicon is already up-to-date!\n"
          ]
        }
      ]
    },
    {
      "cell_type": "code",
      "source": [
        "score = sentiment['neg'] * (-1) + sentiment['neu'] * 0 + sentiment['pos'] * 1"
      ],
      "metadata": {
        "colab": {
          "base_uri": "https://localhost:8080/"
        },
        "id": "XOX2UF45gpJk",
        "outputId": "d53d4b63-5a23-460a-8c10-bb7ab950ade3"
      },
      "execution_count": null,
      "outputs": [
        {
          "output_type": "stream",
          "name": "stderr",
          "text": [
            "/usr/local/lib/python3.10/dist-packages/ipykernel/ipkernel.py:283: DeprecationWarning: `should_run_async` will not call `transform_cell` automatically in the future. Please pass the result to `transformed_cell` argument and any exception that happen during thetransform in `preprocessing_exc_tuple` in IPython 7.17 and above.\n",
            "  and should_run_async(code)\n"
          ]
        }
      ]
    },
    {
      "cell_type": "code",
      "source": [
        "score"
      ],
      "metadata": {
        "colab": {
          "base_uri": "https://localhost:8080/"
        },
        "id": "YOwD9P7shDKT",
        "outputId": "56de1eac-f6b4-4713-862a-5e432412cbe4"
      },
      "execution_count": null,
      "outputs": [
        {
          "output_type": "stream",
          "name": "stderr",
          "text": [
            "/usr/local/lib/python3.10/dist-packages/ipykernel/ipkernel.py:283: DeprecationWarning: `should_run_async` will not call `transform_cell` automatically in the future. Please pass the result to `transformed_cell` argument and any exception that happen during thetransform in `preprocessing_exc_tuple` in IPython 7.17 and above.\n",
            "  and should_run_async(code)\n"
          ]
        },
        {
          "output_type": "execute_result",
          "data": {
            "text/plain": [
              "0.04"
            ]
          },
          "metadata": {},
          "execution_count": 125
        }
      ]
    },
    {
      "cell_type": "code",
      "source": [
        "def plot_sentiment(sentiment_value):\n",
        "    # Create a vertical sentiment gauge\n",
        "    fig, ax = plt.subplots(figsize=(5, 8))\n",
        "\n",
        "    # Set the axis limits and labels\n",
        "    ax.set_xlim(-1.5, 1.5)\n",
        "    ax.set_ylim(-1, 1)\n",
        "    ax.set_yticks([-1, -0.5, 0, 0.5, 1])\n",
        "    ax.set_xticks([])\n",
        "    ax.set_yticklabels([\"Negative\", \"Slightly Negative\", \"Neutral\", \"Slightly Positive\", \"Positive\"])\n",
        "    ax.spines['right'].set_visible(False)\n",
        "    ax.spines['top'].set_visible(False)\n",
        "    ax.spines['bottom'].set_visible(False)\n",
        "    ax.spines['left'].set_position('center')\n",
        "\n",
        "    # Plot the sentiment value\n",
        "    ax.plot([0, 0], [0, sentiment_value], color=\"blue\", lw=5, label=\"Sentiment\")\n",
        "    ax.scatter([0], [sentiment_value], color=\"blue\", s=100)\n",
        "\n",
        "    # Highlight the neutral area\n",
        "    ax.axhspan(-1, -0.5, facecolor='red', alpha=0.5)\n",
        "    ax.axhspan(-0.5, -0.25, facecolor='orange', alpha=0.5)\n",
        "    ax.axhspan(-0.25, 0, facecolor='yellow', alpha=0.5)\n",
        "    ax.axhspan(0, 0.25, facecolor='yellow', alpha=0.5)\n",
        "    ax.axhspan(0.25, 0.5, facecolor='lightgreen', alpha=0.5)\n",
        "    ax.axhspan(0.5, 1, facecolor='darkgreen', alpha=0.5)\n",
        "\n",
        "    # Title\n",
        "    ax.set_title(\"Sentiment Gauge\")\n",
        "\n",
        "    plt.show()\n",
        "\n",
        "# Plot the sentiment\n",
        "plot_sentiment(score)"
      ],
      "metadata": {
        "colab": {
          "base_uri": "https://localhost:8080/",
          "height": 738
        },
        "id": "qgIg9O67iCBk",
        "outputId": "3ddaf1e7-7c34-4547-bda0-9011d21437ff"
      },
      "execution_count": null,
      "outputs": [
        {
          "output_type": "stream",
          "name": "stderr",
          "text": [
            "/usr/local/lib/python3.10/dist-packages/ipykernel/ipkernel.py:283: DeprecationWarning: `should_run_async` will not call `transform_cell` automatically in the future. Please pass the result to `transformed_cell` argument and any exception that happen during thetransform in `preprocessing_exc_tuple` in IPython 7.17 and above.\n",
            "  and should_run_async(code)\n"
          ]
        },
        {
          "output_type": "display_data",
          "data": {
            "text/plain": [
              "<Figure size 500x800 with 1 Axes>"
            ],
            "image/png": "[encoded data removed]"
          },
          "metadata": {}
        }
      ]
    },
    {
      "cell_type": "code",
      "source": [],
      "metadata": {
        "colab": {
          "base_uri": "https://localhost:8080/"
        },
        "id": "dQsVlShdiPj9",
        "outputId": "118f3eed-5ed0-41a1-dfaf-9f26284d4b80"
      },
      "execution_count": null,
      "outputs": [
        {
          "output_type": "stream",
          "name": "stderr",
          "text": [
            "/usr/local/lib/python3.10/dist-packages/ipykernel/ipkernel.py:283: DeprecationWarning: `should_run_async` will not call `transform_cell` automatically in the future. Please pass the result to `transformed_cell` argument and any exception that happen during thetransform in `preprocessing_exc_tuple` in IPython 7.17 and above.\n",
            "  and should_run_async(code)\n"
          ]
        }
      ]
    }
  ]
}