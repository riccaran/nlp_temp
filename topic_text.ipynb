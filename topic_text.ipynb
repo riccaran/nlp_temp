{
 "cells": [
  {
   "cell_type": "code",
   "execution_count": 7,
   "metadata": {},
   "outputs": [],
   "source": [
    "import torch.nn.functional as F\n",
    "\n",
    "from torch import Tensor\n",
    "from transformers import AutoTokenizer, AutoModel\n",
    "\n",
    "from sklearn.feature_extraction.text import TfidfVectorizer\n",
    "from sklearn.cluster import KMeans\n",
    "from sklearn.decomposition import LatentDirichletAllocation\n",
    "import numpy as np\n",
    "\n",
    "def average_pool(last_hidden_states: Tensor,\n",
    "                 attention_mask: Tensor) -> Tensor:\n",
    "    last_hidden = last_hidden_states.masked_fill(~attention_mask[..., None].bool(), 0.0)\n",
    "    return last_hidden.sum(dim=1) / attention_mask.sum(dim=1)[..., None]"
   ]
  },
  {
   "cell_type": "code",
   "execution_count": 2,
   "metadata": {},
   "outputs": [],
   "source": [
    "# Each input text should start with \"query: \" or \"passage: \", even for non-English texts.\n",
    "# For tasks other than retrieval, you can simply use the \"query: \" prefix.\n",
    "\n",
    "input_texts = [\n",
    "    # Animal-related queries\n",
    "    \"query: Lions are known as the kings of the jungle.\",\n",
    "    \"query: Dolphins are highly intelligent marine animals.\",\n",
    "    \"query: Birds migrate to warmer climates during winter.\",\n",
    "    \n",
    "    # Real estate-related queries\n",
    "    \"query: A well-maintained property can increase in value over time.\",\n",
    "    \"query: Renting is often more flexible than buying a home.\",\n",
    "    \"query: Many cities are experiencing a housing shortage.\",\n",
    "    \n",
    "    # Computer-related queries\n",
    "    \"query: Machine learning is a subset of artificial intelligence.\",\n",
    "    \"query: Python is a popular programming language for beginners.\",\n",
    "    \"query: Cybersecurity is essential in today's digital world.\",\n",
    "    \n",
    "    # Food-related queries\n",
    "    \"query: Italian pizza is famous worldwide for its rich flavors.\",\n",
    "    \"query: Eating fresh fruits daily can improve your health.\",\n",
    "    \"query: Spices like turmeric and cumin are staples in Indian cuisine.\"\n",
    "]"
   ]
  },
  {
   "cell_type": "code",
   "execution_count": 3,
   "metadata": {},
   "outputs": [],
   "source": [
    "tokenizer = AutoTokenizer.from_pretrained('intfloat/multilingual-e5-large')\n",
    "model = AutoModel.from_pretrained('intfloat/multilingual-e5-large')"
   ]
  },
  {
   "cell_type": "code",
   "execution_count": 4,
   "metadata": {},
   "outputs": [],
   "source": [
    "# Tokenize the input texts\n",
    "batch_dict = tokenizer(input_texts, max_length=512, padding=True, truncation=True, return_tensors='pt')"
   ]
  },
  {
   "cell_type": "code",
   "execution_count": 5,
   "metadata": {},
   "outputs": [],
   "source": [
    "outputs = model(**batch_dict)\n",
    "embeddings = average_pool(outputs.last_hidden_state, batch_dict['attention_mask'])"
   ]
  },
  {
   "cell_type": "code",
   "execution_count": 11,
   "metadata": {},
   "outputs": [
    {
     "name": "stdout",
     "output_type": "stream",
     "text": [
      "Raggruppamento degli embedding in base ai cluster:\n",
      "Cluster 0: [3, 4, 5]\n",
      "Cluster 1: [6, 7, 8]\n",
      "Cluster 2: [0, 1, 2]\n",
      "Cluster 3: [9, 10, 11]\n"
     ]
    },
    {
     "name": "stderr",
     "output_type": "stream",
     "text": [
      "c:\\Users\\Riccardo\\.conda\\envs\\data_science_complete\\lib\\site-packages\\sklearn\\cluster\\_kmeans.py:1429: UserWarning: KMeans is known to have a memory leak on Windows with MKL, when there are less chunks than available threads. You can avoid it by setting the environment variable OMP_NUM_THREADS=1.\n",
      "  warnings.warn(\n"
     ]
    }
   ],
   "source": [
    "# Scegli il numero di cluster (puoi modificarlo o calcolarlo con metodi come silhouette score)\n",
    "num_clusters = 4\n",
    "\n",
    "# Applichiamo k-means clustering\n",
    "kmeans = KMeans(n_clusters=num_clusters, random_state=42)\n",
    "\n",
    "embeddings_np = embeddings.detach()\n",
    "kmeans.fit(embeddings_np)\n",
    "\n",
    "# Otteniamo i gruppi\n",
    "labels = kmeans.labels_\n",
    "\n",
    "# Raggruppiamo gli indici degli embedding in base ai cluster\n",
    "groups = {i: [] for i in range(num_clusters)}\n",
    "for idx, label in enumerate(labels):\n",
    "    groups[label].append(idx)\n",
    "\n",
    "# Stampiamo i gruppi\n",
    "print(\"Raggruppamento degli embedding in base ai cluster:\")\n",
    "for cluster, indices in groups.items():\n",
    "    print(f\"Cluster {cluster}: {indices}\")"
   ]
  },
  {
   "cell_type": "code",
   "execution_count": 12,
   "metadata": {},
   "outputs": [
    {
     "name": "stdout",
     "output_type": "stream",
     "text": [
      "{'Topic: artificial, intelligence, learning': ['query: Machine learning is a '\n",
      "                                               'subset of artificial '\n",
      "                                               'intelligence.'],\n",
      " 'Topic: cumin, spices, staples': ['query: Spices like turmeric and cumin are '\n",
      "                                   'staples in Indian cuisine.'],\n",
      " 'Topic: query, kings, jungle': ['query: Lions are known as the kings of the '\n",
      "                                 'jungle.',\n",
      "                                 'query: Dolphins are highly intelligent '\n",
      "                                 'marine animals.',\n",
      "                                 'query: Birds migrate to warmer climates '\n",
      "                                 'during winter.',\n",
      "                                 'query: A well-maintained property can '\n",
      "                                 'increase in value over time.',\n",
      "                                 'query: Renting is often more flexible than '\n",
      "                                 'buying a home.',\n",
      "                                 'query: Many cities are experiencing a '\n",
      "                                 'housing shortage.',\n",
      "                                 'query: Python is a popular programming '\n",
      "                                 'language for beginners.',\n",
      "                                 'query: Italian pizza is famous worldwide for '\n",
      "                                 'its rich flavors.',\n",
      "                                 'query: Eating fresh fruits daily can improve '\n",
      "                                 'your health.'],\n",
      " 'Topic: world, essential, today': ['query: Cybersecurity is essential in '\n",
      "                                    \"today's digital world.\"]}\n"
     ]
    }
   ],
   "source": [
    "# Step 1: Vectorize the text\n",
    "vectorizer = TfidfVectorizer(stop_words='english')\n",
    "X = vectorizer.fit_transform(input_texts)\n",
    "\n",
    "# Step 2: Cluster the text using KMeans\n",
    "n_clusters = 4  # Number of expected groups\n",
    "kmeans = KMeans(n_clusters=n_clusters, random_state=0)\n",
    "labels = kmeans.fit_predict(X)\n",
    "\n",
    "# Step 3: Generate topic titles by analyzing cluster centers\n",
    "terms = np.array(vectorizer.get_feature_names_out())\n",
    "topic_titles = []\n",
    "\n",
    "for i in range(n_clusters):\n",
    "    cluster_center = kmeans.cluster_centers_[i]\n",
    "    top_terms = terms[np.argsort(-cluster_center)[:3]]  # Top 3 terms per cluster\n",
    "    topic_titles.append(\"Topic: \" + \", \".join(top_terms))\n",
    "\n",
    "# Assign titles to each group\n",
    "grouped_texts = {topic_titles[i]: [] for i in range(n_clusters)}\n",
    "\n",
    "for i, label in enumerate(labels):\n",
    "    grouped_texts[topic_titles[label]].append(input_texts[i])\n",
    "\n",
    "# Display the results\n",
    "import pprint\n",
    "pprint.pprint(grouped_texts)"
   ]
  },
  {
   "cell_type": "code",
   "execution_count": 13,
   "metadata": {},
   "outputs": [],
   "source": [
    "# https://github.com/princeton-nlp/SimCSE/blob/main/README.md"
   ]
  },
  {
   "cell_type": "code",
   "execution_count": 14,
   "metadata": {},
   "outputs": [
    {
     "name": "stderr",
     "output_type": "stream",
     "text": [
      "c:\\Users\\Riccardo\\.conda\\envs\\data_science_complete\\lib\\site-packages\\transformers\\tokenization_utils_base.py:1601: FutureWarning: `clean_up_tokenization_spaces` was not set. It will be set to `True` by default. This behavior will be depracted in transformers v4.45, and will be then set to `False` by default. For more details check this issue: https://github.com/huggingface/transformers/issues/31884\n",
      "  warnings.warn(\n"
     ]
    }
   ],
   "source": [
    "# Load model directly\n",
    "from transformers import AutoTokenizer, AutoModelForSeq2SeqLM\n",
    "\n",
    "tokenizer = AutoTokenizer.from_pretrained(\"facebook/bart-large-cnn\")\n",
    "model = AutoModelForSeq2SeqLM.from_pretrained(\"facebook/bart-large-cnn\")"
   ]
  },
  {
   "cell_type": "code",
   "execution_count": 15,
   "metadata": {},
   "outputs": [
    {
     "name": "stderr",
     "output_type": "stream",
     "text": [
      "c:\\Users\\Riccardo\\.conda\\envs\\data_science_complete\\lib\\site-packages\\transformers\\tokenization_utils_base.py:1601: FutureWarning: `clean_up_tokenization_spaces` was not set. It will be set to `True` by default. This behavior will be depracted in transformers v4.45, and will be then set to `False` by default. For more details check this issue: https://github.com/huggingface/transformers/issues/31884\n",
      "  warnings.warn(\n",
      "Hardware accelerator e.g. GPU is available in the environment, but no `device` argument is passed to the `Pipeline` object. Model will be on CPU.\n"
     ]
    }
   ],
   "source": [
    "from transformers import pipeline\n",
    "\n",
    "summarizer = pipeline(\"summarization\", model=\"facebook/bart-large-cnn\")"
   ]
  },
  {
   "cell_type": "code",
   "execution_count": 16,
   "metadata": {},
   "outputs": [],
   "source": [
    "ARTICLE = \"\"\" New York (CNN)When Liana Barrientos was 23 years old, she got married in Westchester County, New York.\n",
    "A year later, she got married again in Westchester County, but to a different man and without divorcing her first husband.\n",
    "Only 18 days after that marriage, she got hitched yet again. Then, Barrientos declared \"I do\" five more times, sometimes only within two weeks of each other.\n",
    "In 2010, she married once more, this time in the Bronx. In an application for a marriage license, she stated it was her \"first and only\" marriage.\n",
    "Barrientos, now 39, is facing two criminal counts of \"offering a false instrument for filing in the first degree,\" referring to her false statements on the\n",
    "2010 marriage license application, according to court documents.\n",
    "Prosecutors said the marriages were part of an immigration scam.\n",
    "On Friday, she pleaded not guilty at State Supreme Court in the Bronx, according to her attorney, Christopher Wright, who declined to comment further.\n",
    "After leaving court, Barrientos was arrested and charged with theft of service and criminal trespass for allegedly sneaking into the New York subway through an emergency exit, said Detective\n",
    "Annette Markowski, a police spokeswoman. In total, Barrientos has been married 10 times, with nine of her marriages occurring between 1999 and 2002.\n",
    "All occurred either in Westchester County, Long Island, New Jersey or the Bronx. She is believed to still be married to four men, and at one time, she was married to eight men at once, prosecutors say.\n",
    "Prosecutors said the immigration scam involved some of her husbands, who filed for permanent residence status shortly after the marriages.\n",
    "Any divorces happened only after such filings were approved. It was unclear whether any of the men will be prosecuted.\n",
    "The case was referred to the Bronx District Attorney\\'s Office by Immigration and Customs Enforcement and the Department of Homeland Security\\'s\n",
    "Investigation Division. Seven of the men are from so-called \"red-flagged\" countries, including Egypt, Turkey, Georgia, Pakistan and Mali.\n",
    "Her eighth husband, Rashid Rajput, was deported in 2006 to his native Pakistan after an investigation by the Joint Terrorism Task Force.\n",
    "If convicted, Barrientos faces up to four years in prison.  Her next court appearance is scheduled for May 18.\n",
    "\"\"\""
   ]
  },
  {
   "cell_type": "code",
   "execution_count": 17,
   "metadata": {},
   "outputs": [],
   "source": [
    "s = summarizer(ARTICLE, max_length=150, min_length=50, do_sample=False)"
   ]
  },
  {
   "cell_type": "code",
   "execution_count": 18,
   "metadata": {},
   "outputs": [
    {
     "data": {
      "text/plain": [
       "'Liana Barrientos, 39, is charged with two counts of \"offering a false instrument for filing in the first degree\" In total, she has been married 10 times, with nine of her marriages occurring between 1999 and 2002. She is believed to still be married to four men.'"
      ]
     },
     "execution_count": 18,
     "metadata": {},
     "output_type": "execute_result"
    }
   ],
   "source": [
    "s[0]['summary_text']"
   ]
  },
  {
   "cell_type": "code",
   "execution_count": null,
   "metadata": {},
   "outputs": [],
   "source": []
  }
 ],
 "metadata": {
  "kernelspec": {
   "display_name": "data_science_complete",
   "language": "python",
   "name": "python3"
  },
  "language_info": {
   "codemirror_mode": {
    "name": "ipython",
    "version": 3
   },
   "file_extension": ".py",
   "mimetype": "text/x-python",
   "name": "python",
   "nbconvert_exporter": "python",
   "pygments_lexer": "ipython3",
   "version": "3.9.18"
  }
 },
 "nbformat": 4,
 "nbformat_minor": 2
}
